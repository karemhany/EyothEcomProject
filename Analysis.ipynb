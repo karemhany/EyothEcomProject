{
 "cells": [
  {
   "cell_type": "code",
   "execution_count": 1,
   "id": "99ac7a7d",
   "metadata": {},
   "outputs": [],
   "source": [
    "import pandas as pd\n",
    "import numpy as np\n",
    "from tabulate import tabulate\n",
    "from prophet import Prophet\n",
    "import seaborn as sns\n",
    "import matplotlib.pyplot as plt\n",
    "from matplotlib.ticker import FuncFormatter\n",
    "from sklearn.model_selection import train_test_split\n",
    "from sklearn.ensemble import RandomForestClassifier\n",
    "from sklearn.metrics import classification_report\n",
    "from sklearn.impute import SimpleImputer\n",
    "from sklearn.metrics import mean_absolute_error\n",
    "from sklearn.ensemble import RandomForestRegressor"
   ]
  },
  {
   "cell_type": "code",
   "execution_count": 2,
   "id": "e562fc20",
   "metadata": {},
   "outputs": [
    {
     "name": "stdout",
     "output_type": "stream",
     "text": [
      "   id            name                                        description  \\\n",
      "0   1     Electronics  Forward generation section guess. Couple coach...   \n",
      "1   2        Clothing  Player smile security doctor. Customer securit...   \n",
      "2   3  Home & Kitchen  Green notice through parent buy what cup. Soon...   \n",
      "3   4           Books  Leader better room send. Senior professor see....   \n",
      "4   5          Sports  Add improve specific his contain charge indeed...   \n",
      "\n",
      "   parent_id  \n",
      "0        NaN  \n",
      "1        NaN  \n",
      "2        NaN  \n",
      "3        NaN  \n",
      "4        NaN  \n",
      "   id first_name last_name                     email          phone  \\\n",
      "0   1     Andrew  Richards          cday@example.com   +10000000001   \n",
      "1   2    Jessica     Carey   christine42@example.org  (442)730-0178   \n",
      "2   3    Tiffany     Smith  bushdanielle@example.net     4147915635   \n",
      "3   4    Ricardo    Warren     jessica43@example.net   +10000000004   \n",
      "4   5      Jamie     Hicks        gclark@example.net   +10000000005   \n",
      "\n",
      "                                             address    registration_date  \n",
      "0                   PSC 6946, Box 4483\\nAPO AE 45924  2024-02-29 13:00:01  \n",
      "1               981 Cross Spur\\nPort Frank, MT 54743  2024-05-26 23:56:24  \n",
      "2                   PSC 1890, Box 8077\\nAPO AP 84751  2024-07-03 02:00:45  \n",
      "3             246 Thomas Manor\\nSarahmouth, KS 43770  2025-01-14 07:28:06  \n",
      "4  624 Nelson Glens Suite 032\\nEast Susanburgh, I...  2025-01-30 21:45:25  \n"
     ]
    }
   ],
   "source": [
    "base_path = r\"C:\\Users\\CompuMarts\\Desktop\\ecommerceDB\\Database\"\n",
    "\n",
    "file_names = [\n",
    "    \"categories\",\n",
    "    \"customer_sessions\",\n",
    "    \"customers\",\n",
    "    \"discounts\",\n",
    "    \"inventory_movements\",\n",
    "    \"order_details\",\n",
    "    \"orders\",\n",
    "    \"payments\",\n",
    "    \"products\",\n",
    "    \"returns\",\n",
    "    \"reviews\",\n",
    "    \"shipping\",\n",
    "    \"suppliers\",\n",
    "    \"wishlists\"\n",
    "]\n",
    "\n",
    "for name in file_names:\n",
    "    file_path = fr\"{base_path}\\{name}.csv\"\n",
    "    globals()[f\"df_{name}\"] = pd.read_csv(file_path)\n",
    "\n",
    "print(df_categories.head())\n",
    "print(df_customers.head())\n"
   ]
  },
  {
   "cell_type": "code",
   "execution_count": 3,
   "id": "01eba5f9",
   "metadata": {},
   "outputs": [
    {
     "data": {
      "text/html": [
       "<div>\n",
       "<style scoped>\n",
       "    .dataframe tbody tr th:only-of-type {\n",
       "        vertical-align: middle;\n",
       "    }\n",
       "\n",
       "    .dataframe tbody tr th {\n",
       "        vertical-align: top;\n",
       "    }\n",
       "\n",
       "    .dataframe thead th {\n",
       "        text-align: right;\n",
       "    }\n",
       "</style>\n",
       "<table border=\"1\" class=\"dataframe\">\n",
       "  <thead>\n",
       "    <tr style=\"text-align: right;\">\n",
       "      <th></th>\n",
       "      <th>id</th>\n",
       "      <th>name</th>\n",
       "      <th>description</th>\n",
       "      <th>parent_id</th>\n",
       "    </tr>\n",
       "  </thead>\n",
       "  <tbody>\n",
       "    <tr>\n",
       "      <th>0</th>\n",
       "      <td>1</td>\n",
       "      <td>Electronics</td>\n",
       "      <td>Forward generation section guess. Couple coach...</td>\n",
       "      <td>NaN</td>\n",
       "    </tr>\n",
       "    <tr>\n",
       "      <th>1</th>\n",
       "      <td>2</td>\n",
       "      <td>Clothing</td>\n",
       "      <td>Player smile security doctor. Customer securit...</td>\n",
       "      <td>NaN</td>\n",
       "    </tr>\n",
       "    <tr>\n",
       "      <th>2</th>\n",
       "      <td>3</td>\n",
       "      <td>Home &amp; Kitchen</td>\n",
       "      <td>Green notice through parent buy what cup. Soon...</td>\n",
       "      <td>NaN</td>\n",
       "    </tr>\n",
       "    <tr>\n",
       "      <th>3</th>\n",
       "      <td>4</td>\n",
       "      <td>Books</td>\n",
       "      <td>Leader better room send. Senior professor see....</td>\n",
       "      <td>NaN</td>\n",
       "    </tr>\n",
       "    <tr>\n",
       "      <th>4</th>\n",
       "      <td>5</td>\n",
       "      <td>Sports</td>\n",
       "      <td>Add improve specific his contain charge indeed...</td>\n",
       "      <td>NaN</td>\n",
       "    </tr>\n",
       "  </tbody>\n",
       "</table>\n",
       "</div>"
      ],
      "text/plain": [
       "   id            name                                        description  \\\n",
       "0   1     Electronics  Forward generation section guess. Couple coach...   \n",
       "1   2        Clothing  Player smile security doctor. Customer securit...   \n",
       "2   3  Home & Kitchen  Green notice through parent buy what cup. Soon...   \n",
       "3   4           Books  Leader better room send. Senior professor see....   \n",
       "4   5          Sports  Add improve specific his contain charge indeed...   \n",
       "\n",
       "   parent_id  \n",
       "0        NaN  \n",
       "1        NaN  \n",
       "2        NaN  \n",
       "3        NaN  \n",
       "4        NaN  "
      ]
     },
     "execution_count": 3,
     "metadata": {},
     "output_type": "execute_result"
    }
   ],
   "source": [
    "df_categories.head()"
   ]
  },
  {
   "cell_type": "code",
   "execution_count": 4,
   "id": "61d10cff",
   "metadata": {},
   "outputs": [
    {
     "name": "stdout",
     "output_type": "stream",
     "text": [
      "id               int64\n",
      "name            object\n",
      "description     object\n",
      "parent_id      float64\n",
      "dtype: object\n"
     ]
    }
   ],
   "source": [
    "print(df_categories.dtypes)"
   ]
  },
  {
   "cell_type": "code",
   "execution_count": 5,
   "id": "422d1e7c",
   "metadata": {},
   "outputs": [
    {
     "data": {
      "text/html": [
       "<div>\n",
       "<style scoped>\n",
       "    .dataframe tbody tr th:only-of-type {\n",
       "        vertical-align: middle;\n",
       "    }\n",
       "\n",
       "    .dataframe tbody tr th {\n",
       "        vertical-align: top;\n",
       "    }\n",
       "\n",
       "    .dataframe thead th {\n",
       "        text-align: right;\n",
       "    }\n",
       "</style>\n",
       "<table border=\"1\" class=\"dataframe\">\n",
       "  <thead>\n",
       "    <tr style=\"text-align: right;\">\n",
       "      <th></th>\n",
       "      <th>id</th>\n",
       "      <th>customer_id</th>\n",
       "      <th>session_start</th>\n",
       "      <th>session_end</th>\n",
       "      <th>ip_address</th>\n",
       "    </tr>\n",
       "  </thead>\n",
       "  <tbody>\n",
       "    <tr>\n",
       "      <th>0</th>\n",
       "      <td>1</td>\n",
       "      <td>1</td>\n",
       "      <td>2025-01-26 00:37:34</td>\n",
       "      <td>2025-01-26 02:21:34</td>\n",
       "      <td>118.96.94.17</td>\n",
       "    </tr>\n",
       "    <tr>\n",
       "      <th>1</th>\n",
       "      <td>2</td>\n",
       "      <td>1</td>\n",
       "      <td>2024-06-22 19:21:25</td>\n",
       "      <td>2024-06-22 20:37:25</td>\n",
       "      <td>68.161.204.154</td>\n",
       "    </tr>\n",
       "    <tr>\n",
       "      <th>2</th>\n",
       "      <td>3</td>\n",
       "      <td>1</td>\n",
       "      <td>2024-07-01 19:05:50</td>\n",
       "      <td>2024-07-01 19:07:50</td>\n",
       "      <td>221.239.81.76</td>\n",
       "    </tr>\n",
       "    <tr>\n",
       "      <th>3</th>\n",
       "      <td>4</td>\n",
       "      <td>1</td>\n",
       "      <td>2024-07-21 19:43:09</td>\n",
       "      <td>2024-07-21 20:44:09</td>\n",
       "      <td>135.73.240.61</td>\n",
       "    </tr>\n",
       "    <tr>\n",
       "      <th>4</th>\n",
       "      <td>5</td>\n",
       "      <td>1</td>\n",
       "      <td>2025-02-25 12:05:38</td>\n",
       "      <td>2025-02-25 12:57:38</td>\n",
       "      <td>77.215.2.60</td>\n",
       "    </tr>\n",
       "  </tbody>\n",
       "</table>\n",
       "</div>"
      ],
      "text/plain": [
       "   id  customer_id        session_start          session_end      ip_address\n",
       "0   1            1  2025-01-26 00:37:34  2025-01-26 02:21:34    118.96.94.17\n",
       "1   2            1  2024-06-22 19:21:25  2024-06-22 20:37:25  68.161.204.154\n",
       "2   3            1  2024-07-01 19:05:50  2024-07-01 19:07:50   221.239.81.76\n",
       "3   4            1  2024-07-21 19:43:09  2024-07-21 20:44:09   135.73.240.61\n",
       "4   5            1  2025-02-25 12:05:38  2025-02-25 12:57:38     77.215.2.60"
      ]
     },
     "execution_count": 5,
     "metadata": {},
     "output_type": "execute_result"
    }
   ],
   "source": [
    "df_customer_sessions.head()"
   ]
  },
  {
   "cell_type": "code",
   "execution_count": 6,
   "id": "0b74f758",
   "metadata": {},
   "outputs": [
    {
     "data": {
      "text/plain": [
       "id                int64\n",
       "customer_id       int64\n",
       "session_start    object\n",
       "session_end      object\n",
       "ip_address       object\n",
       "dtype: object"
      ]
     },
     "execution_count": 6,
     "metadata": {},
     "output_type": "execute_result"
    }
   ],
   "source": [
    "df_customer_sessions.dtypes"
   ]
  },
  {
   "cell_type": "code",
   "execution_count": 7,
   "id": "17cba4f8",
   "metadata": {},
   "outputs": [],
   "source": [
    "df_customer_sessions['session_start'] = df_customer_sessions['session_start'].astype('datetime64[ns]')\n",
    "df_customer_sessions['session_end'] = df_customer_sessions['session_end'].astype('datetime64[ns]')"
   ]
  },
  {
   "cell_type": "code",
   "execution_count": 8,
   "id": "aae21c3a",
   "metadata": {},
   "outputs": [
    {
     "data": {
      "text/plain": [
       "id                        int64\n",
       "customer_id               int64\n",
       "session_start    datetime64[ns]\n",
       "session_end      datetime64[ns]\n",
       "ip_address               object\n",
       "dtype: object"
      ]
     },
     "execution_count": 8,
     "metadata": {},
     "output_type": "execute_result"
    }
   ],
   "source": [
    "df_customer_sessions.dtypes"
   ]
  },
  {
   "cell_type": "code",
   "execution_count": 9,
   "id": "09471a7d",
   "metadata": {},
   "outputs": [
    {
     "data": {
      "text/html": [
       "<div>\n",
       "<style scoped>\n",
       "    .dataframe tbody tr th:only-of-type {\n",
       "        vertical-align: middle;\n",
       "    }\n",
       "\n",
       "    .dataframe tbody tr th {\n",
       "        vertical-align: top;\n",
       "    }\n",
       "\n",
       "    .dataframe thead th {\n",
       "        text-align: right;\n",
       "    }\n",
       "</style>\n",
       "<table border=\"1\" class=\"dataframe\">\n",
       "  <thead>\n",
       "    <tr style=\"text-align: right;\">\n",
       "      <th></th>\n",
       "      <th>id</th>\n",
       "      <th>first_name</th>\n",
       "      <th>last_name</th>\n",
       "      <th>email</th>\n",
       "      <th>phone</th>\n",
       "      <th>address</th>\n",
       "      <th>registration_date</th>\n",
       "    </tr>\n",
       "  </thead>\n",
       "  <tbody>\n",
       "    <tr>\n",
       "      <th>0</th>\n",
       "      <td>1</td>\n",
       "      <td>Andrew</td>\n",
       "      <td>Richards</td>\n",
       "      <td>cday@example.com</td>\n",
       "      <td>+10000000001</td>\n",
       "      <td>PSC 6946, Box 4483\\nAPO AE 45924</td>\n",
       "      <td>2024-02-29 13:00:01</td>\n",
       "    </tr>\n",
       "    <tr>\n",
       "      <th>1</th>\n",
       "      <td>2</td>\n",
       "      <td>Jessica</td>\n",
       "      <td>Carey</td>\n",
       "      <td>christine42@example.org</td>\n",
       "      <td>(442)730-0178</td>\n",
       "      <td>981 Cross Spur\\nPort Frank, MT 54743</td>\n",
       "      <td>2024-05-26 23:56:24</td>\n",
       "    </tr>\n",
       "    <tr>\n",
       "      <th>2</th>\n",
       "      <td>3</td>\n",
       "      <td>Tiffany</td>\n",
       "      <td>Smith</td>\n",
       "      <td>bushdanielle@example.net</td>\n",
       "      <td>4147915635</td>\n",
       "      <td>PSC 1890, Box 8077\\nAPO AP 84751</td>\n",
       "      <td>2024-07-03 02:00:45</td>\n",
       "    </tr>\n",
       "    <tr>\n",
       "      <th>3</th>\n",
       "      <td>4</td>\n",
       "      <td>Ricardo</td>\n",
       "      <td>Warren</td>\n",
       "      <td>jessica43@example.net</td>\n",
       "      <td>+10000000004</td>\n",
       "      <td>246 Thomas Manor\\nSarahmouth, KS 43770</td>\n",
       "      <td>2025-01-14 07:28:06</td>\n",
       "    </tr>\n",
       "    <tr>\n",
       "      <th>4</th>\n",
       "      <td>5</td>\n",
       "      <td>Jamie</td>\n",
       "      <td>Hicks</td>\n",
       "      <td>gclark@example.net</td>\n",
       "      <td>+10000000005</td>\n",
       "      <td>624 Nelson Glens Suite 032\\nEast Susanburgh, I...</td>\n",
       "      <td>2025-01-30 21:45:25</td>\n",
       "    </tr>\n",
       "  </tbody>\n",
       "</table>\n",
       "</div>"
      ],
      "text/plain": [
       "   id first_name last_name                     email          phone  \\\n",
       "0   1     Andrew  Richards          cday@example.com   +10000000001   \n",
       "1   2    Jessica     Carey   christine42@example.org  (442)730-0178   \n",
       "2   3    Tiffany     Smith  bushdanielle@example.net     4147915635   \n",
       "3   4    Ricardo    Warren     jessica43@example.net   +10000000004   \n",
       "4   5      Jamie     Hicks        gclark@example.net   +10000000005   \n",
       "\n",
       "                                             address    registration_date  \n",
       "0                   PSC 6946, Box 4483\\nAPO AE 45924  2024-02-29 13:00:01  \n",
       "1               981 Cross Spur\\nPort Frank, MT 54743  2024-05-26 23:56:24  \n",
       "2                   PSC 1890, Box 8077\\nAPO AP 84751  2024-07-03 02:00:45  \n",
       "3             246 Thomas Manor\\nSarahmouth, KS 43770  2025-01-14 07:28:06  \n",
       "4  624 Nelson Glens Suite 032\\nEast Susanburgh, I...  2025-01-30 21:45:25  "
      ]
     },
     "execution_count": 9,
     "metadata": {},
     "output_type": "execute_result"
    }
   ],
   "source": [
    "df_customers.head()"
   ]
  },
  {
   "cell_type": "code",
   "execution_count": 10,
   "id": "5d7c78e1",
   "metadata": {},
   "outputs": [
    {
     "data": {
      "text/plain": [
       "id                    int64\n",
       "first_name           object\n",
       "last_name            object\n",
       "email                object\n",
       "phone                object\n",
       "address              object\n",
       "registration_date    object\n",
       "dtype: object"
      ]
     },
     "execution_count": 10,
     "metadata": {},
     "output_type": "execute_result"
    }
   ],
   "source": [
    "df_customers.dtypes"
   ]
  },
  {
   "cell_type": "code",
   "execution_count": 11,
   "id": "892e6328",
   "metadata": {},
   "outputs": [],
   "source": [
    "df_customers['registration_date'] = df_customers['registration_date'].astype('datetime64[ns]')"
   ]
  },
  {
   "cell_type": "code",
   "execution_count": 12,
   "id": "9ef029a0",
   "metadata": {},
   "outputs": [
    {
     "data": {
      "text/plain": [
       "id                            int64\n",
       "first_name                   object\n",
       "last_name                    object\n",
       "email                        object\n",
       "phone                        object\n",
       "address                      object\n",
       "registration_date    datetime64[ns]\n",
       "dtype: object"
      ]
     },
     "execution_count": 12,
     "metadata": {},
     "output_type": "execute_result"
    }
   ],
   "source": [
    "df_customers.dtypes"
   ]
  },
  {
   "cell_type": "code",
   "execution_count": 13,
   "id": "91e87e16",
   "metadata": {},
   "outputs": [
    {
     "data": {
      "text/html": [
       "<div>\n",
       "<style scoped>\n",
       "    .dataframe tbody tr th:only-of-type {\n",
       "        vertical-align: middle;\n",
       "    }\n",
       "\n",
       "    .dataframe tbody tr th {\n",
       "        vertical-align: top;\n",
       "    }\n",
       "\n",
       "    .dataframe thead th {\n",
       "        text-align: right;\n",
       "    }\n",
       "</style>\n",
       "<table border=\"1\" class=\"dataframe\">\n",
       "  <thead>\n",
       "    <tr style=\"text-align: right;\">\n",
       "      <th></th>\n",
       "      <th>id</th>\n",
       "      <th>code</th>\n",
       "      <th>percentage</th>\n",
       "      <th>start_date</th>\n",
       "      <th>end_date</th>\n",
       "      <th>is_active</th>\n",
       "      <th>product_id</th>\n",
       "      <th>category_id</th>\n",
       "      <th>order_id</th>\n",
       "    </tr>\n",
       "  </thead>\n",
       "  <tbody>\n",
       "    <tr>\n",
       "      <th>0</th>\n",
       "      <td>1</td>\n",
       "      <td>DISCOUNT-UNbg-3193</td>\n",
       "      <td>45</td>\n",
       "      <td>2025-05-03 22:51:05</td>\n",
       "      <td>2025-05-10 16:55:52</td>\n",
       "      <td>1</td>\n",
       "      <td>NaN</td>\n",
       "      <td>NaN</td>\n",
       "      <td>NaN</td>\n",
       "    </tr>\n",
       "    <tr>\n",
       "      <th>1</th>\n",
       "      <td>2</td>\n",
       "      <td>DISCOUNT-jNsD-9744</td>\n",
       "      <td>33</td>\n",
       "      <td>2025-04-29 07:23:12</td>\n",
       "      <td>2025-05-05 15:03:17</td>\n",
       "      <td>1</td>\n",
       "      <td>NaN</td>\n",
       "      <td>NaN</td>\n",
       "      <td>NaN</td>\n",
       "    </tr>\n",
       "    <tr>\n",
       "      <th>2</th>\n",
       "      <td>3</td>\n",
       "      <td>DISCOUNT-Cxww-5374</td>\n",
       "      <td>45</td>\n",
       "      <td>2025-04-21 05:24:21</td>\n",
       "      <td>2025-05-12 19:10:01</td>\n",
       "      <td>1</td>\n",
       "      <td>NaN</td>\n",
       "      <td>NaN</td>\n",
       "      <td>NaN</td>\n",
       "    </tr>\n",
       "    <tr>\n",
       "      <th>3</th>\n",
       "      <td>4</td>\n",
       "      <td>DISCOUNT-WcGm-1243</td>\n",
       "      <td>18</td>\n",
       "      <td>2025-04-18 12:55:19</td>\n",
       "      <td>2025-05-09 21:35:25</td>\n",
       "      <td>1</td>\n",
       "      <td>NaN</td>\n",
       "      <td>NaN</td>\n",
       "      <td>NaN</td>\n",
       "    </tr>\n",
       "    <tr>\n",
       "      <th>4</th>\n",
       "      <td>5</td>\n",
       "      <td>DISCOUNT-Wzqc-7134</td>\n",
       "      <td>39</td>\n",
       "      <td>2025-04-20 18:11:38</td>\n",
       "      <td>2025-05-18 07:44:06</td>\n",
       "      <td>1</td>\n",
       "      <td>NaN</td>\n",
       "      <td>NaN</td>\n",
       "      <td>NaN</td>\n",
       "    </tr>\n",
       "  </tbody>\n",
       "</table>\n",
       "</div>"
      ],
      "text/plain": [
       "   id                code  percentage           start_date  \\\n",
       "0   1  DISCOUNT-UNbg-3193          45  2025-05-03 22:51:05   \n",
       "1   2  DISCOUNT-jNsD-9744          33  2025-04-29 07:23:12   \n",
       "2   3  DISCOUNT-Cxww-5374          45  2025-04-21 05:24:21   \n",
       "3   4  DISCOUNT-WcGm-1243          18  2025-04-18 12:55:19   \n",
       "4   5  DISCOUNT-Wzqc-7134          39  2025-04-20 18:11:38   \n",
       "\n",
       "              end_date  is_active  product_id  category_id  order_id  \n",
       "0  2025-05-10 16:55:52          1         NaN          NaN       NaN  \n",
       "1  2025-05-05 15:03:17          1         NaN          NaN       NaN  \n",
       "2  2025-05-12 19:10:01          1         NaN          NaN       NaN  \n",
       "3  2025-05-09 21:35:25          1         NaN          NaN       NaN  \n",
       "4  2025-05-18 07:44:06          1         NaN          NaN       NaN  "
      ]
     },
     "execution_count": 13,
     "metadata": {},
     "output_type": "execute_result"
    }
   ],
   "source": [
    "df_discounts.head()"
   ]
  },
  {
   "cell_type": "code",
   "execution_count": 14,
   "id": "98b1f87d",
   "metadata": {},
   "outputs": [
    {
     "data": {
      "text/plain": [
       "id               int64\n",
       "code            object\n",
       "percentage       int64\n",
       "start_date      object\n",
       "end_date        object\n",
       "is_active        int64\n",
       "product_id     float64\n",
       "category_id    float64\n",
       "order_id       float64\n",
       "dtype: object"
      ]
     },
     "execution_count": 14,
     "metadata": {},
     "output_type": "execute_result"
    }
   ],
   "source": [
    "df_discounts.dtypes"
   ]
  },
  {
   "cell_type": "code",
   "execution_count": 15,
   "id": "c2afd3ea",
   "metadata": {},
   "outputs": [],
   "source": [
    "df_discounts['start_date'] = df_discounts['start_date'].astype('datetime64[ns]')\n",
    "df_discounts['end_date'] = df_discounts['end_date'].astype('datetime64[ns]')"
   ]
  },
  {
   "cell_type": "code",
   "execution_count": 16,
   "id": "0b913bc7",
   "metadata": {},
   "outputs": [
    {
     "data": {
      "text/plain": [
       "id                      int64\n",
       "code                   object\n",
       "percentage              int64\n",
       "start_date     datetime64[ns]\n",
       "end_date       datetime64[ns]\n",
       "is_active               int64\n",
       "product_id            float64\n",
       "category_id           float64\n",
       "order_id              float64\n",
       "dtype: object"
      ]
     },
     "execution_count": 16,
     "metadata": {},
     "output_type": "execute_result"
    }
   ],
   "source": [
    "df_discounts.dtypes"
   ]
  },
  {
   "cell_type": "code",
   "execution_count": 17,
   "id": "ee584d03",
   "metadata": {},
   "outputs": [
    {
     "data": {
      "text/plain": [
       "1    50\n",
       "Name: is_active, dtype: int64"
      ]
     },
     "execution_count": 17,
     "metadata": {},
     "output_type": "execute_result"
    }
   ],
   "source": [
    "df_discounts['is_active'].value_counts()"
   ]
  },
  {
   "cell_type": "code",
   "execution_count": 18,
   "id": "338f0b05",
   "metadata": {},
   "outputs": [
    {
     "data": {
      "text/plain": [
       "(50, 9)"
      ]
     },
     "execution_count": 18,
     "metadata": {},
     "output_type": "execute_result"
    }
   ],
   "source": [
    "df_discounts.shape"
   ]
  },
  {
   "cell_type": "code",
   "execution_count": 19,
   "id": "2fee8f38",
   "metadata": {},
   "outputs": [],
   "source": [
    "df_discounts['is_active'] = df_discounts['is_active'].astype('bool')"
   ]
  },
  {
   "cell_type": "code",
   "execution_count": 20,
   "id": "25b10ee6",
   "metadata": {},
   "outputs": [
    {
     "data": {
      "text/plain": [
       "id                      int64\n",
       "code                   object\n",
       "percentage              int64\n",
       "start_date     datetime64[ns]\n",
       "end_date       datetime64[ns]\n",
       "is_active                bool\n",
       "product_id            float64\n",
       "category_id           float64\n",
       "order_id              float64\n",
       "dtype: object"
      ]
     },
     "execution_count": 20,
     "metadata": {},
     "output_type": "execute_result"
    }
   ],
   "source": [
    "df_discounts.dtypes"
   ]
  },
  {
   "cell_type": "code",
   "execution_count": 21,
   "id": "ab27f6f2",
   "metadata": {},
   "outputs": [
    {
     "data": {
      "text/plain": [
       "23.0    1\n",
       "Name: product_id, dtype: int64"
      ]
     },
     "execution_count": 21,
     "metadata": {},
     "output_type": "execute_result"
    }
   ],
   "source": [
    "df_discounts['product_id'].value_counts()"
   ]
  },
  {
   "cell_type": "code",
   "execution_count": 22,
   "id": "2746063c",
   "metadata": {},
   "outputs": [
    {
     "data": {
      "text/html": [
       "<div>\n",
       "<style scoped>\n",
       "    .dataframe tbody tr th:only-of-type {\n",
       "        vertical-align: middle;\n",
       "    }\n",
       "\n",
       "    .dataframe tbody tr th {\n",
       "        vertical-align: top;\n",
       "    }\n",
       "\n",
       "    .dataframe thead th {\n",
       "        text-align: right;\n",
       "    }\n",
       "</style>\n",
       "<table border=\"1\" class=\"dataframe\">\n",
       "  <thead>\n",
       "    <tr style=\"text-align: right;\">\n",
       "      <th></th>\n",
       "      <th>id</th>\n",
       "      <th>product_id</th>\n",
       "      <th>quantity</th>\n",
       "      <th>movement_type</th>\n",
       "      <th>movement_date</th>\n",
       "    </tr>\n",
       "  </thead>\n",
       "  <tbody>\n",
       "    <tr>\n",
       "      <th>0</th>\n",
       "      <td>1</td>\n",
       "      <td>1</td>\n",
       "      <td>449</td>\n",
       "      <td>purchase</td>\n",
       "      <td>2024-06-11 09:03:03</td>\n",
       "    </tr>\n",
       "    <tr>\n",
       "      <th>1</th>\n",
       "      <td>2</td>\n",
       "      <td>1</td>\n",
       "      <td>5</td>\n",
       "      <td>sale</td>\n",
       "      <td>2025-02-13 13:16:35</td>\n",
       "    </tr>\n",
       "    <tr>\n",
       "      <th>2</th>\n",
       "      <td>3</td>\n",
       "      <td>1</td>\n",
       "      <td>4</td>\n",
       "      <td>sale</td>\n",
       "      <td>2024-06-13 16:27:42</td>\n",
       "    </tr>\n",
       "    <tr>\n",
       "      <th>3</th>\n",
       "      <td>4</td>\n",
       "      <td>1</td>\n",
       "      <td>3</td>\n",
       "      <td>sale</td>\n",
       "      <td>2024-05-14 20:18:37</td>\n",
       "    </tr>\n",
       "    <tr>\n",
       "      <th>4</th>\n",
       "      <td>5</td>\n",
       "      <td>1</td>\n",
       "      <td>5</td>\n",
       "      <td>sale</td>\n",
       "      <td>2025-01-31 18:21:59</td>\n",
       "    </tr>\n",
       "  </tbody>\n",
       "</table>\n",
       "</div>"
      ],
      "text/plain": [
       "   id  product_id  quantity movement_type        movement_date\n",
       "0   1           1       449      purchase  2024-06-11 09:03:03\n",
       "1   2           1         5          sale  2025-02-13 13:16:35\n",
       "2   3           1         4          sale  2024-06-13 16:27:42\n",
       "3   4           1         3          sale  2024-05-14 20:18:37\n",
       "4   5           1         5          sale  2025-01-31 18:21:59"
      ]
     },
     "execution_count": 22,
     "metadata": {},
     "output_type": "execute_result"
    }
   ],
   "source": [
    "df_inventory_movements.head()"
   ]
  },
  {
   "cell_type": "code",
   "execution_count": 23,
   "id": "baa6263b",
   "metadata": {},
   "outputs": [
    {
     "data": {
      "text/plain": [
       "id                int64\n",
       "product_id        int64\n",
       "quantity          int64\n",
       "movement_type    object\n",
       "movement_date    object\n",
       "dtype: object"
      ]
     },
     "execution_count": 23,
     "metadata": {},
     "output_type": "execute_result"
    }
   ],
   "source": [
    "df_inventory_movements.dtypes"
   ]
  },
  {
   "cell_type": "code",
   "execution_count": 24,
   "id": "30e12888",
   "metadata": {},
   "outputs": [],
   "source": [
    "df_inventory_movements['movement_date'] = df_inventory_movements['movement_date'].astype('datetime64[ns]')"
   ]
  },
  {
   "cell_type": "code",
   "execution_count": 25,
   "id": "5d020511",
   "metadata": {},
   "outputs": [
    {
     "data": {
      "text/plain": [
       "id                        int64\n",
       "product_id                int64\n",
       "quantity                  int64\n",
       "movement_type            object\n",
       "movement_date    datetime64[ns]\n",
       "dtype: object"
      ]
     },
     "execution_count": 25,
     "metadata": {},
     "output_type": "execute_result"
    }
   ],
   "source": [
    "df_inventory_movements.dtypes"
   ]
  },
  {
   "cell_type": "code",
   "execution_count": 26,
   "id": "473a44cf",
   "metadata": {},
   "outputs": [
    {
     "data": {
      "text/plain": [
       "sale        29943\n",
       "purchase     1003\n",
       "Name: movement_type, dtype: int64"
      ]
     },
     "execution_count": 26,
     "metadata": {},
     "output_type": "execute_result"
    }
   ],
   "source": [
    "df_inventory_movements['movement_type'].value_counts()"
   ]
  },
  {
   "cell_type": "code",
   "execution_count": 27,
   "id": "767a6071",
   "metadata": {},
   "outputs": [
    {
     "data": {
      "text/html": [
       "<div>\n",
       "<style scoped>\n",
       "    .dataframe tbody tr th:only-of-type {\n",
       "        vertical-align: middle;\n",
       "    }\n",
       "\n",
       "    .dataframe tbody tr th {\n",
       "        vertical-align: top;\n",
       "    }\n",
       "\n",
       "    .dataframe thead th {\n",
       "        text-align: right;\n",
       "    }\n",
       "</style>\n",
       "<table border=\"1\" class=\"dataframe\">\n",
       "  <thead>\n",
       "    <tr style=\"text-align: right;\">\n",
       "      <th></th>\n",
       "      <th>id</th>\n",
       "      <th>order_id</th>\n",
       "      <th>product_id</th>\n",
       "      <th>quantity</th>\n",
       "      <th>unit_price</th>\n",
       "    </tr>\n",
       "  </thead>\n",
       "  <tbody>\n",
       "    <tr>\n",
       "      <th>0</th>\n",
       "      <td>1</td>\n",
       "      <td>1</td>\n",
       "      <td>967</td>\n",
       "      <td>4</td>\n",
       "      <td>71.67</td>\n",
       "    </tr>\n",
       "    <tr>\n",
       "      <th>1</th>\n",
       "      <td>2</td>\n",
       "      <td>1</td>\n",
       "      <td>426</td>\n",
       "      <td>2</td>\n",
       "      <td>145.02</td>\n",
       "    </tr>\n",
       "    <tr>\n",
       "      <th>2</th>\n",
       "      <td>3</td>\n",
       "      <td>2</td>\n",
       "      <td>995</td>\n",
       "      <td>5</td>\n",
       "      <td>297.62</td>\n",
       "    </tr>\n",
       "    <tr>\n",
       "      <th>3</th>\n",
       "      <td>4</td>\n",
       "      <td>3</td>\n",
       "      <td>942</td>\n",
       "      <td>3</td>\n",
       "      <td>553.77</td>\n",
       "    </tr>\n",
       "    <tr>\n",
       "      <th>4</th>\n",
       "      <td>5</td>\n",
       "      <td>3</td>\n",
       "      <td>123</td>\n",
       "      <td>1</td>\n",
       "      <td>553.91</td>\n",
       "    </tr>\n",
       "  </tbody>\n",
       "</table>\n",
       "</div>"
      ],
      "text/plain": [
       "   id  order_id  product_id  quantity  unit_price\n",
       "0   1         1         967         4       71.67\n",
       "1   2         1         426         2      145.02\n",
       "2   3         2         995         5      297.62\n",
       "3   4         3         942         3      553.77\n",
       "4   5         3         123         1      553.91"
      ]
     },
     "execution_count": 27,
     "metadata": {},
     "output_type": "execute_result"
    }
   ],
   "source": [
    "df_order_details.head()"
   ]
  },
  {
   "cell_type": "code",
   "execution_count": 28,
   "id": "667bf841",
   "metadata": {},
   "outputs": [
    {
     "data": {
      "text/plain": [
       "id              int64\n",
       "order_id        int64\n",
       "product_id      int64\n",
       "quantity        int64\n",
       "unit_price    float64\n",
       "dtype: object"
      ]
     },
     "execution_count": 28,
     "metadata": {},
     "output_type": "execute_result"
    }
   ],
   "source": [
    "df_order_details.dtypes"
   ]
  },
  {
   "cell_type": "code",
   "execution_count": 29,
   "id": "693b1688",
   "metadata": {},
   "outputs": [
    {
     "data": {
      "text/html": [
       "<div>\n",
       "<style scoped>\n",
       "    .dataframe tbody tr th:only-of-type {\n",
       "        vertical-align: middle;\n",
       "    }\n",
       "\n",
       "    .dataframe tbody tr th {\n",
       "        vertical-align: top;\n",
       "    }\n",
       "\n",
       "    .dataframe thead th {\n",
       "        text-align: right;\n",
       "    }\n",
       "</style>\n",
       "<table border=\"1\" class=\"dataframe\">\n",
       "  <thead>\n",
       "    <tr style=\"text-align: right;\">\n",
       "      <th></th>\n",
       "      <th>id</th>\n",
       "      <th>customer_id</th>\n",
       "      <th>order_date</th>\n",
       "      <th>total_amount</th>\n",
       "      <th>status</th>\n",
       "    </tr>\n",
       "  </thead>\n",
       "  <tbody>\n",
       "    <tr>\n",
       "      <th>0</th>\n",
       "      <td>1</td>\n",
       "      <td>3855</td>\n",
       "      <td>2024-05-26 17:25:05</td>\n",
       "      <td>576.72</td>\n",
       "      <td>processing</td>\n",
       "    </tr>\n",
       "    <tr>\n",
       "      <th>1</th>\n",
       "      <td>2</td>\n",
       "      <td>3654</td>\n",
       "      <td>2024-11-19 23:46:15</td>\n",
       "      <td>1488.10</td>\n",
       "      <td>pending</td>\n",
       "    </tr>\n",
       "    <tr>\n",
       "      <th>2</th>\n",
       "      <td>3</td>\n",
       "      <td>3791</td>\n",
       "      <td>2024-05-25 10:20:03</td>\n",
       "      <td>3561.47</td>\n",
       "      <td>cancelled</td>\n",
       "    </tr>\n",
       "    <tr>\n",
       "      <th>3</th>\n",
       "      <td>4</td>\n",
       "      <td>140</td>\n",
       "      <td>2025-02-24 13:03:09</td>\n",
       "      <td>2958.96</td>\n",
       "      <td>pending</td>\n",
       "    </tr>\n",
       "    <tr>\n",
       "      <th>4</th>\n",
       "      <td>5</td>\n",
       "      <td>4476</td>\n",
       "      <td>2024-07-29 02:22:13</td>\n",
       "      <td>6025.56</td>\n",
       "      <td>processing</td>\n",
       "    </tr>\n",
       "  </tbody>\n",
       "</table>\n",
       "</div>"
      ],
      "text/plain": [
       "   id  customer_id           order_date  total_amount      status\n",
       "0   1         3855  2024-05-26 17:25:05        576.72  processing\n",
       "1   2         3654  2024-11-19 23:46:15       1488.10     pending\n",
       "2   3         3791  2024-05-25 10:20:03       3561.47   cancelled\n",
       "3   4          140  2025-02-24 13:03:09       2958.96     pending\n",
       "4   5         4476  2024-07-29 02:22:13       6025.56  processing"
      ]
     },
     "execution_count": 29,
     "metadata": {},
     "output_type": "execute_result"
    }
   ],
   "source": [
    "df_orders.head()"
   ]
  },
  {
   "cell_type": "code",
   "execution_count": 30,
   "id": "b5026685",
   "metadata": {},
   "outputs": [
    {
     "data": {
      "text/plain": [
       "id                int64\n",
       "customer_id       int64\n",
       "order_date       object\n",
       "total_amount    float64\n",
       "status           object\n",
       "dtype: object"
      ]
     },
     "execution_count": 30,
     "metadata": {},
     "output_type": "execute_result"
    }
   ],
   "source": [
    "df_orders.dtypes"
   ]
  },
  {
   "cell_type": "code",
   "execution_count": 31,
   "id": "5f9e11c3",
   "metadata": {},
   "outputs": [],
   "source": [
    "df_orders['order_date'] = df_orders['order_date'].astype('datetime64[ns]')"
   ]
  },
  {
   "cell_type": "code",
   "execution_count": 32,
   "id": "bbee4468",
   "metadata": {},
   "outputs": [
    {
     "data": {
      "text/plain": [
       "id                       int64\n",
       "customer_id              int64\n",
       "order_date      datetime64[ns]\n",
       "total_amount           float64\n",
       "status                  object\n",
       "dtype: object"
      ]
     },
     "execution_count": 32,
     "metadata": {},
     "output_type": "execute_result"
    }
   ],
   "source": [
    "df_orders.dtypes"
   ]
  },
  {
   "cell_type": "code",
   "execution_count": 33,
   "id": "fd2f1587",
   "metadata": {},
   "outputs": [
    {
     "data": {
      "text/plain": [
       "delivered     2049\n",
       "cancelled     2012\n",
       "shipped       1984\n",
       "processing    1983\n",
       "pending       1972\n",
       "Name: status, dtype: int64"
      ]
     },
     "execution_count": 33,
     "metadata": {},
     "output_type": "execute_result"
    }
   ],
   "source": [
    "df_orders['status'].value_counts()"
   ]
  },
  {
   "cell_type": "code",
   "execution_count": 34,
   "id": "62f3d9b4",
   "metadata": {},
   "outputs": [],
   "source": [
    "df_orders['status'] = df_orders['status'].astype('category')"
   ]
  },
  {
   "cell_type": "code",
   "execution_count": 35,
   "id": "3557c821",
   "metadata": {},
   "outputs": [
    {
     "data": {
      "text/plain": [
       "id                       int64\n",
       "customer_id              int64\n",
       "order_date      datetime64[ns]\n",
       "total_amount           float64\n",
       "status                category\n",
       "dtype: object"
      ]
     },
     "execution_count": 35,
     "metadata": {},
     "output_type": "execute_result"
    }
   ],
   "source": [
    "df_orders.dtypes"
   ]
  },
  {
   "cell_type": "code",
   "execution_count": 36,
   "id": "288d5877",
   "metadata": {},
   "outputs": [
    {
     "data": {
      "text/html": [
       "<div>\n",
       "<style scoped>\n",
       "    .dataframe tbody tr th:only-of-type {\n",
       "        vertical-align: middle;\n",
       "    }\n",
       "\n",
       "    .dataframe tbody tr th {\n",
       "        vertical-align: top;\n",
       "    }\n",
       "\n",
       "    .dataframe thead th {\n",
       "        text-align: right;\n",
       "    }\n",
       "</style>\n",
       "<table border=\"1\" class=\"dataframe\">\n",
       "  <thead>\n",
       "    <tr style=\"text-align: right;\">\n",
       "      <th></th>\n",
       "      <th>id</th>\n",
       "      <th>order_id</th>\n",
       "      <th>customer_id</th>\n",
       "      <th>amount</th>\n",
       "      <th>payment_date</th>\n",
       "      <th>payment_method</th>\n",
       "      <th>status</th>\n",
       "    </tr>\n",
       "  </thead>\n",
       "  <tbody>\n",
       "    <tr>\n",
       "      <th>0</th>\n",
       "      <td>1</td>\n",
       "      <td>1</td>\n",
       "      <td>3855</td>\n",
       "      <td>576.72</td>\n",
       "      <td>2024-05-26 18:13:05</td>\n",
       "      <td>paypal</td>\n",
       "      <td>completed</td>\n",
       "    </tr>\n",
       "    <tr>\n",
       "      <th>1</th>\n",
       "      <td>2</td>\n",
       "      <td>2</td>\n",
       "      <td>3654</td>\n",
       "      <td>1488.10</td>\n",
       "      <td>2024-11-20 00:24:15</td>\n",
       "      <td>bank_transfer</td>\n",
       "      <td>pending</td>\n",
       "    </tr>\n",
       "    <tr>\n",
       "      <th>2</th>\n",
       "      <td>3</td>\n",
       "      <td>4</td>\n",
       "      <td>140</td>\n",
       "      <td>2958.96</td>\n",
       "      <td>2025-02-24 13:09:09</td>\n",
       "      <td>paypal</td>\n",
       "      <td>pending</td>\n",
       "    </tr>\n",
       "    <tr>\n",
       "      <th>3</th>\n",
       "      <td>4</td>\n",
       "      <td>5</td>\n",
       "      <td>4476</td>\n",
       "      <td>6025.56</td>\n",
       "      <td>2024-07-29 02:47:13</td>\n",
       "      <td>bank_transfer</td>\n",
       "      <td>completed</td>\n",
       "    </tr>\n",
       "    <tr>\n",
       "      <th>4</th>\n",
       "      <td>5</td>\n",
       "      <td>6</td>\n",
       "      <td>646</td>\n",
       "      <td>6783.29</td>\n",
       "      <td>2025-03-02 07:44:45</td>\n",
       "      <td>credit_card</td>\n",
       "      <td>completed</td>\n",
       "    </tr>\n",
       "  </tbody>\n",
       "</table>\n",
       "</div>"
      ],
      "text/plain": [
       "   id  order_id  customer_id   amount         payment_date payment_method  \\\n",
       "0   1         1         3855   576.72  2024-05-26 18:13:05         paypal   \n",
       "1   2         2         3654  1488.10  2024-11-20 00:24:15  bank_transfer   \n",
       "2   3         4          140  2958.96  2025-02-24 13:09:09         paypal   \n",
       "3   4         5         4476  6025.56  2024-07-29 02:47:13  bank_transfer   \n",
       "4   5         6          646  6783.29  2025-03-02 07:44:45    credit_card   \n",
       "\n",
       "      status  \n",
       "0  completed  \n",
       "1    pending  \n",
       "2    pending  \n",
       "3  completed  \n",
       "4  completed  "
      ]
     },
     "execution_count": 36,
     "metadata": {},
     "output_type": "execute_result"
    }
   ],
   "source": [
    "df_payments.head()"
   ]
  },
  {
   "cell_type": "code",
   "execution_count": 37,
   "id": "010fe120",
   "metadata": {},
   "outputs": [
    {
     "data": {
      "text/plain": [
       "id                  int64\n",
       "order_id            int64\n",
       "customer_id         int64\n",
       "amount            float64\n",
       "payment_date       object\n",
       "payment_method     object\n",
       "status             object\n",
       "dtype: object"
      ]
     },
     "execution_count": 37,
     "metadata": {},
     "output_type": "execute_result"
    }
   ],
   "source": [
    "df_payments.dtypes"
   ]
  },
  {
   "cell_type": "code",
   "execution_count": 38,
   "id": "1f45f67e",
   "metadata": {},
   "outputs": [],
   "source": [
    "df_payments['payment_date'] = df_payments['payment_date'].astype('datetime64[ns]')"
   ]
  },
  {
   "cell_type": "code",
   "execution_count": 39,
   "id": "9d0c8001",
   "metadata": {},
   "outputs": [
    {
     "data": {
      "text/plain": [
       "id                         int64\n",
       "order_id                   int64\n",
       "customer_id                int64\n",
       "amount                   float64\n",
       "payment_date      datetime64[ns]\n",
       "payment_method            object\n",
       "status                    object\n",
       "dtype: object"
      ]
     },
     "execution_count": 39,
     "metadata": {},
     "output_type": "execute_result"
    }
   ],
   "source": [
    "df_payments.dtypes"
   ]
  },
  {
   "cell_type": "code",
   "execution_count": 40,
   "id": "f1af782f",
   "metadata": {},
   "outputs": [
    {
     "data": {
      "text/plain": [
       "completed    6016\n",
       "pending      1972\n",
       "Name: status, dtype: int64"
      ]
     },
     "execution_count": 40,
     "metadata": {},
     "output_type": "execute_result"
    }
   ],
   "source": [
    "df_payments['status'].value_counts()"
   ]
  },
  {
   "cell_type": "code",
   "execution_count": 41,
   "id": "0d2643e1",
   "metadata": {},
   "outputs": [],
   "source": [
    "df_payments['status'] = df_payments['status'].astype('category')"
   ]
  },
  {
   "cell_type": "code",
   "execution_count": 42,
   "id": "c51c84fd",
   "metadata": {},
   "outputs": [
    {
     "data": {
      "text/plain": [
       "id                         int64\n",
       "order_id                   int64\n",
       "customer_id                int64\n",
       "amount                   float64\n",
       "payment_date      datetime64[ns]\n",
       "payment_method            object\n",
       "status                  category\n",
       "dtype: object"
      ]
     },
     "execution_count": 42,
     "metadata": {},
     "output_type": "execute_result"
    }
   ],
   "source": [
    "df_payments.dtypes"
   ]
  },
  {
   "cell_type": "code",
   "execution_count": 43,
   "id": "a10b61be",
   "metadata": {},
   "outputs": [
    {
     "data": {
      "text/html": [
       "<div>\n",
       "<style scoped>\n",
       "    .dataframe tbody tr th:only-of-type {\n",
       "        vertical-align: middle;\n",
       "    }\n",
       "\n",
       "    .dataframe tbody tr th {\n",
       "        vertical-align: top;\n",
       "    }\n",
       "\n",
       "    .dataframe thead th {\n",
       "        text-align: right;\n",
       "    }\n",
       "</style>\n",
       "<table border=\"1\" class=\"dataframe\">\n",
       "  <thead>\n",
       "    <tr style=\"text-align: right;\">\n",
       "      <th></th>\n",
       "      <th>id</th>\n",
       "      <th>name</th>\n",
       "      <th>description</th>\n",
       "      <th>price</th>\n",
       "      <th>category_id</th>\n",
       "      <th>supplier_id</th>\n",
       "      <th>sku</th>\n",
       "      <th>stock_quantity</th>\n",
       "    </tr>\n",
       "  </thead>\n",
       "  <tbody>\n",
       "    <tr>\n",
       "      <th>0</th>\n",
       "      <td>1</td>\n",
       "      <td>Total methodical alliance</td>\n",
       "      <td>On walk once fish official. Follow senior thre...</td>\n",
       "      <td>128.32</td>\n",
       "      <td>17</td>\n",
       "      <td>6</td>\n",
       "      <td>SKU-3723-xRLF</td>\n",
       "      <td>374</td>\n",
       "    </tr>\n",
       "    <tr>\n",
       "      <th>1</th>\n",
       "      <td>2</td>\n",
       "      <td>Cloned 6thgeneration Graphic Interface</td>\n",
       "      <td>Scene record our paper forward. Yes full speci...</td>\n",
       "      <td>823.94</td>\n",
       "      <td>6</td>\n",
       "      <td>24</td>\n",
       "      <td>SKU-3518-wBrp</td>\n",
       "      <td>183</td>\n",
       "    </tr>\n",
       "    <tr>\n",
       "      <th>2</th>\n",
       "      <td>3</td>\n",
       "      <td>Synchronized client-driven migration</td>\n",
       "      <td>We entire senior current speak it key.\\nBuildi...</td>\n",
       "      <td>145.68</td>\n",
       "      <td>20</td>\n",
       "      <td>13</td>\n",
       "      <td>SKU-9128-OgDT</td>\n",
       "      <td>66</td>\n",
       "    </tr>\n",
       "    <tr>\n",
       "      <th>3</th>\n",
       "      <td>4</td>\n",
       "      <td>Right-sized intangible knowledgebase</td>\n",
       "      <td>Western coach shoulder relate step test bit. I...</td>\n",
       "      <td>296.91</td>\n",
       "      <td>13</td>\n",
       "      <td>38</td>\n",
       "      <td>SKU-0638-lKgb</td>\n",
       "      <td>530</td>\n",
       "    </tr>\n",
       "    <tr>\n",
       "      <th>4</th>\n",
       "      <td>5</td>\n",
       "      <td>Robust clear-thinking service-desk</td>\n",
       "      <td>Must fire audience section fish girl opportuni...</td>\n",
       "      <td>928.55</td>\n",
       "      <td>8</td>\n",
       "      <td>18</td>\n",
       "      <td>SKU-3899-haHw</td>\n",
       "      <td>676</td>\n",
       "    </tr>\n",
       "  </tbody>\n",
       "</table>\n",
       "</div>"
      ],
      "text/plain": [
       "   id                                    name  \\\n",
       "0   1               Total methodical alliance   \n",
       "1   2  Cloned 6thgeneration Graphic Interface   \n",
       "2   3    Synchronized client-driven migration   \n",
       "3   4    Right-sized intangible knowledgebase   \n",
       "4   5      Robust clear-thinking service-desk   \n",
       "\n",
       "                                         description   price  category_id  \\\n",
       "0  On walk once fish official. Follow senior thre...  128.32           17   \n",
       "1  Scene record our paper forward. Yes full speci...  823.94            6   \n",
       "2  We entire senior current speak it key.\\nBuildi...  145.68           20   \n",
       "3  Western coach shoulder relate step test bit. I...  296.91           13   \n",
       "4  Must fire audience section fish girl opportuni...  928.55            8   \n",
       "\n",
       "   supplier_id            sku  stock_quantity  \n",
       "0            6  SKU-3723-xRLF             374  \n",
       "1           24  SKU-3518-wBrp             183  \n",
       "2           13  SKU-9128-OgDT              66  \n",
       "3           38  SKU-0638-lKgb             530  \n",
       "4           18  SKU-3899-haHw             676  "
      ]
     },
     "execution_count": 43,
     "metadata": {},
     "output_type": "execute_result"
    }
   ],
   "source": [
    "df_products.head()"
   ]
  },
  {
   "cell_type": "code",
   "execution_count": 44,
   "id": "06911a06",
   "metadata": {},
   "outputs": [
    {
     "data": {
      "text/plain": [
       "id                  int64\n",
       "name               object\n",
       "description        object\n",
       "price             float64\n",
       "category_id         int64\n",
       "supplier_id         int64\n",
       "sku                object\n",
       "stock_quantity      int64\n",
       "dtype: object"
      ]
     },
     "execution_count": 44,
     "metadata": {},
     "output_type": "execute_result"
    }
   ],
   "source": [
    "df_products.dtypes"
   ]
  },
  {
   "cell_type": "code",
   "execution_count": 45,
   "id": "214a3811",
   "metadata": {},
   "outputs": [
    {
     "data": {
      "text/html": [
       "<div>\n",
       "<style scoped>\n",
       "    .dataframe tbody tr th:only-of-type {\n",
       "        vertical-align: middle;\n",
       "    }\n",
       "\n",
       "    .dataframe tbody tr th {\n",
       "        vertical-align: top;\n",
       "    }\n",
       "\n",
       "    .dataframe thead th {\n",
       "        text-align: right;\n",
       "    }\n",
       "</style>\n",
       "<table border=\"1\" class=\"dataframe\">\n",
       "  <thead>\n",
       "    <tr style=\"text-align: right;\">\n",
       "      <th></th>\n",
       "      <th>id</th>\n",
       "      <th>order_id</th>\n",
       "      <th>return_date</th>\n",
       "      <th>reason</th>\n",
       "      <th>status</th>\n",
       "    </tr>\n",
       "  </thead>\n",
       "  <tbody>\n",
       "    <tr>\n",
       "      <th>0</th>\n",
       "      <td>1</td>\n",
       "      <td>112</td>\n",
       "      <td>2024-10-10 20:38:00</td>\n",
       "      <td>Changed mind</td>\n",
       "      <td>completed</td>\n",
       "    </tr>\n",
       "    <tr>\n",
       "      <th>1</th>\n",
       "      <td>2</td>\n",
       "      <td>178</td>\n",
       "      <td>2025-02-27 15:01:15</td>\n",
       "      <td>Wrong item</td>\n",
       "      <td>pending</td>\n",
       "    </tr>\n",
       "    <tr>\n",
       "      <th>2</th>\n",
       "      <td>3</td>\n",
       "      <td>389</td>\n",
       "      <td>2025-05-06 14:08:03</td>\n",
       "      <td>Changed mind</td>\n",
       "      <td>approved</td>\n",
       "    </tr>\n",
       "    <tr>\n",
       "      <th>3</th>\n",
       "      <td>4</td>\n",
       "      <td>438</td>\n",
       "      <td>2024-08-17 00:22:06</td>\n",
       "      <td>Size issue</td>\n",
       "      <td>completed</td>\n",
       "    </tr>\n",
       "    <tr>\n",
       "      <th>4</th>\n",
       "      <td>5</td>\n",
       "      <td>537</td>\n",
       "      <td>2024-07-10 00:15:55</td>\n",
       "      <td>Defective product</td>\n",
       "      <td>approved</td>\n",
       "    </tr>\n",
       "  </tbody>\n",
       "</table>\n",
       "</div>"
      ],
      "text/plain": [
       "   id  order_id          return_date             reason     status\n",
       "0   1       112  2024-10-10 20:38:00       Changed mind  completed\n",
       "1   2       178  2025-02-27 15:01:15         Wrong item    pending\n",
       "2   3       389  2025-05-06 14:08:03       Changed mind   approved\n",
       "3   4       438  2024-08-17 00:22:06         Size issue  completed\n",
       "4   5       537  2024-07-10 00:15:55  Defective product   approved"
      ]
     },
     "execution_count": 45,
     "metadata": {},
     "output_type": "execute_result"
    }
   ],
   "source": [
    "df_returns.head()"
   ]
  },
  {
   "cell_type": "code",
   "execution_count": 46,
   "id": "e6f9f9a1",
   "metadata": {},
   "outputs": [
    {
     "data": {
      "text/plain": [
       "id              int64\n",
       "order_id        int64\n",
       "return_date    object\n",
       "reason         object\n",
       "status         object\n",
       "dtype: object"
      ]
     },
     "execution_count": 46,
     "metadata": {},
     "output_type": "execute_result"
    }
   ],
   "source": [
    "df_returns.dtypes"
   ]
  },
  {
   "cell_type": "code",
   "execution_count": 47,
   "id": "0dd33392",
   "metadata": {},
   "outputs": [],
   "source": [
    "df_returns['return_date'] = df_returns['return_date'].astype('datetime64[ns]')\n",
    "df_returns['status'] = df_returns['status'].astype('category')"
   ]
  },
  {
   "cell_type": "code",
   "execution_count": 48,
   "id": "6433c412",
   "metadata": {},
   "outputs": [
    {
     "data": {
      "text/plain": [
       "id                      int64\n",
       "order_id                int64\n",
       "return_date    datetime64[ns]\n",
       "reason                 object\n",
       "status               category\n",
       "dtype: object"
      ]
     },
     "execution_count": 48,
     "metadata": {},
     "output_type": "execute_result"
    }
   ],
   "source": [
    "df_returns.dtypes"
   ]
  },
  {
   "cell_type": "code",
   "execution_count": 49,
   "id": "fd91b31f",
   "metadata": {},
   "outputs": [
    {
     "data": {
      "text/plain": [
       "pending      30\n",
       "rejected     27\n",
       "approved     24\n",
       "completed    22\n",
       "Name: status, dtype: int64"
      ]
     },
     "execution_count": 49,
     "metadata": {},
     "output_type": "execute_result"
    }
   ],
   "source": [
    "df_returns['status'].value_counts()"
   ]
  },
  {
   "cell_type": "code",
   "execution_count": 50,
   "id": "38852161",
   "metadata": {},
   "outputs": [
    {
     "data": {
      "text/html": [
       "<div>\n",
       "<style scoped>\n",
       "    .dataframe tbody tr th:only-of-type {\n",
       "        vertical-align: middle;\n",
       "    }\n",
       "\n",
       "    .dataframe tbody tr th {\n",
       "        vertical-align: top;\n",
       "    }\n",
       "\n",
       "    .dataframe thead th {\n",
       "        text-align: right;\n",
       "    }\n",
       "</style>\n",
       "<table border=\"1\" class=\"dataframe\">\n",
       "  <thead>\n",
       "    <tr style=\"text-align: right;\">\n",
       "      <th></th>\n",
       "      <th>id</th>\n",
       "      <th>product_id</th>\n",
       "      <th>customer_id</th>\n",
       "      <th>rating</th>\n",
       "      <th>comment</th>\n",
       "      <th>review_date</th>\n",
       "    </tr>\n",
       "  </thead>\n",
       "  <tbody>\n",
       "    <tr>\n",
       "      <th>0</th>\n",
       "      <td>1</td>\n",
       "      <td>1</td>\n",
       "      <td>1767</td>\n",
       "      <td>4</td>\n",
       "      <td>Do effort citizen daughter. Dinner seem day co...</td>\n",
       "      <td>2025-05-01 00:34:48</td>\n",
       "    </tr>\n",
       "    <tr>\n",
       "      <th>1</th>\n",
       "      <td>2</td>\n",
       "      <td>1</td>\n",
       "      <td>727</td>\n",
       "      <td>4</td>\n",
       "      <td>Travel up media down.\\nMessage see can ok thro...</td>\n",
       "      <td>2025-03-31 18:51:31</td>\n",
       "    </tr>\n",
       "    <tr>\n",
       "      <th>2</th>\n",
       "      <td>3</td>\n",
       "      <td>1</td>\n",
       "      <td>4418</td>\n",
       "      <td>5</td>\n",
       "      <td>Behind nearly democratic professional various....</td>\n",
       "      <td>2024-08-07 17:36:15</td>\n",
       "    </tr>\n",
       "    <tr>\n",
       "      <th>3</th>\n",
       "      <td>4</td>\n",
       "      <td>1</td>\n",
       "      <td>1707</td>\n",
       "      <td>5</td>\n",
       "      <td>Weight without practice north truth. Head indu...</td>\n",
       "      <td>2024-12-07 02:58:56</td>\n",
       "    </tr>\n",
       "    <tr>\n",
       "      <th>4</th>\n",
       "      <td>5</td>\n",
       "      <td>1</td>\n",
       "      <td>3874</td>\n",
       "      <td>1</td>\n",
       "      <td>Family here someone truth. Issue mission discu...</td>\n",
       "      <td>2024-06-22 12:12:38</td>\n",
       "    </tr>\n",
       "  </tbody>\n",
       "</table>\n",
       "</div>"
      ],
      "text/plain": [
       "   id  product_id  customer_id  rating  \\\n",
       "0   1           1         1767       4   \n",
       "1   2           1          727       4   \n",
       "2   3           1         4418       5   \n",
       "3   4           1         1707       5   \n",
       "4   5           1         3874       1   \n",
       "\n",
       "                                             comment          review_date  \n",
       "0  Do effort citizen daughter. Dinner seem day co...  2025-05-01 00:34:48  \n",
       "1  Travel up media down.\\nMessage see can ok thro...  2025-03-31 18:51:31  \n",
       "2  Behind nearly democratic professional various....  2024-08-07 17:36:15  \n",
       "3  Weight without practice north truth. Head indu...  2024-12-07 02:58:56  \n",
       "4  Family here someone truth. Issue mission discu...  2024-06-22 12:12:38  "
      ]
     },
     "execution_count": 50,
     "metadata": {},
     "output_type": "execute_result"
    }
   ],
   "source": [
    "df_reviews.head()"
   ]
  },
  {
   "cell_type": "code",
   "execution_count": 51,
   "id": "99c635d6",
   "metadata": {},
   "outputs": [
    {
     "data": {
      "text/plain": [
       "id              int64\n",
       "product_id      int64\n",
       "customer_id     int64\n",
       "rating          int64\n",
       "comment        object\n",
       "review_date    object\n",
       "dtype: object"
      ]
     },
     "execution_count": 51,
     "metadata": {},
     "output_type": "execute_result"
    }
   ],
   "source": [
    "df_reviews.dtypes"
   ]
  },
  {
   "cell_type": "code",
   "execution_count": 52,
   "id": "dc213e71",
   "metadata": {},
   "outputs": [],
   "source": [
    "df_reviews['review_date'] = df_reviews['review_date'].astype('datetime64[ns]')"
   ]
  },
  {
   "cell_type": "code",
   "execution_count": 53,
   "id": "e0377231",
   "metadata": {},
   "outputs": [
    {
     "data": {
      "text/plain": [
       "id                      int64\n",
       "product_id              int64\n",
       "customer_id             int64\n",
       "rating                  int64\n",
       "comment                object\n",
       "review_date    datetime64[ns]\n",
       "dtype: object"
      ]
     },
     "execution_count": 53,
     "metadata": {},
     "output_type": "execute_result"
    }
   ],
   "source": [
    "df_reviews.dtypes"
   ]
  },
  {
   "cell_type": "code",
   "execution_count": 54,
   "id": "1a6ff2e3",
   "metadata": {},
   "outputs": [
    {
     "data": {
      "text/html": [
       "<div>\n",
       "<style scoped>\n",
       "    .dataframe tbody tr th:only-of-type {\n",
       "        vertical-align: middle;\n",
       "    }\n",
       "\n",
       "    .dataframe tbody tr th {\n",
       "        vertical-align: top;\n",
       "    }\n",
       "\n",
       "    .dataframe thead th {\n",
       "        text-align: right;\n",
       "    }\n",
       "</style>\n",
       "<table border=\"1\" class=\"dataframe\">\n",
       "  <thead>\n",
       "    <tr style=\"text-align: right;\">\n",
       "      <th></th>\n",
       "      <th>id</th>\n",
       "      <th>order_id</th>\n",
       "      <th>shipping_date</th>\n",
       "      <th>tracking_number</th>\n",
       "      <th>carrier</th>\n",
       "      <th>status</th>\n",
       "    </tr>\n",
       "  </thead>\n",
       "  <tbody>\n",
       "    <tr>\n",
       "      <th>0</th>\n",
       "      <td>1</td>\n",
       "      <td>12</td>\n",
       "      <td>2025-02-15 22:17:17</td>\n",
       "      <td>TRK-85694554-hRDd</td>\n",
       "      <td>FedEx</td>\n",
       "      <td>delivered</td>\n",
       "    </tr>\n",
       "    <tr>\n",
       "      <th>1</th>\n",
       "      <td>2</td>\n",
       "      <td>13</td>\n",
       "      <td>2024-09-22 20:32:08</td>\n",
       "      <td>TRK-49382436-rboo</td>\n",
       "      <td>USPS</td>\n",
       "      <td>delivered</td>\n",
       "    </tr>\n",
       "    <tr>\n",
       "      <th>2</th>\n",
       "      <td>3</td>\n",
       "      <td>16</td>\n",
       "      <td>2024-09-09 09:03:41</td>\n",
       "      <td>TRK-36283004-CPra</td>\n",
       "      <td>USPS</td>\n",
       "      <td>in_transit</td>\n",
       "    </tr>\n",
       "    <tr>\n",
       "      <th>3</th>\n",
       "      <td>4</td>\n",
       "      <td>20</td>\n",
       "      <td>2024-10-23 10:56:21</td>\n",
       "      <td>TRK-57562111-mais</td>\n",
       "      <td>UPS</td>\n",
       "      <td>in_transit</td>\n",
       "    </tr>\n",
       "    <tr>\n",
       "      <th>4</th>\n",
       "      <td>5</td>\n",
       "      <td>21</td>\n",
       "      <td>2024-12-18 00:29:46</td>\n",
       "      <td>TRK-88889834-PEXW</td>\n",
       "      <td>FedEx</td>\n",
       "      <td>delivered</td>\n",
       "    </tr>\n",
       "  </tbody>\n",
       "</table>\n",
       "</div>"
      ],
      "text/plain": [
       "   id  order_id        shipping_date    tracking_number carrier      status\n",
       "0   1        12  2025-02-15 22:17:17  TRK-85694554-hRDd   FedEx   delivered\n",
       "1   2        13  2024-09-22 20:32:08  TRK-49382436-rboo    USPS   delivered\n",
       "2   3        16  2024-09-09 09:03:41  TRK-36283004-CPra    USPS  in_transit\n",
       "3   4        20  2024-10-23 10:56:21  TRK-57562111-mais     UPS  in_transit\n",
       "4   5        21  2024-12-18 00:29:46  TRK-88889834-PEXW   FedEx   delivered"
      ]
     },
     "execution_count": 54,
     "metadata": {},
     "output_type": "execute_result"
    }
   ],
   "source": [
    "df_shipping.head()"
   ]
  },
  {
   "cell_type": "code",
   "execution_count": 55,
   "id": "11a17e39",
   "metadata": {},
   "outputs": [
    {
     "data": {
      "text/plain": [
       "id                  int64\n",
       "order_id            int64\n",
       "shipping_date      object\n",
       "tracking_number    object\n",
       "carrier            object\n",
       "status             object\n",
       "dtype: object"
      ]
     },
     "execution_count": 55,
     "metadata": {},
     "output_type": "execute_result"
    }
   ],
   "source": [
    "df_shipping.dtypes"
   ]
  },
  {
   "cell_type": "code",
   "execution_count": 56,
   "id": "bef670fb",
   "metadata": {},
   "outputs": [],
   "source": [
    "df_shipping['shipping_date'] = df_shipping['shipping_date'].astype('datetime64[ns]')\n",
    "df_shipping['status'] = df_shipping['status'].astype('category')"
   ]
  },
  {
   "cell_type": "code",
   "execution_count": 57,
   "id": "de4ff29c",
   "metadata": {},
   "outputs": [
    {
     "data": {
      "text/plain": [
       "id                          int64\n",
       "order_id                    int64\n",
       "shipping_date      datetime64[ns]\n",
       "tracking_number            object\n",
       "carrier                    object\n",
       "status                   category\n",
       "dtype: object"
      ]
     },
     "execution_count": 57,
     "metadata": {},
     "output_type": "execute_result"
    }
   ],
   "source": [
    "df_shipping.dtypes"
   ]
  },
  {
   "cell_type": "code",
   "execution_count": 58,
   "id": "a292a4bf",
   "metadata": {},
   "outputs": [
    {
     "data": {
      "text/plain": [
       "UPS      1038\n",
       "DHL      1023\n",
       "FedEx     988\n",
       "USPS      984\n",
       "Name: carrier, dtype: int64"
      ]
     },
     "execution_count": 58,
     "metadata": {},
     "output_type": "execute_result"
    }
   ],
   "source": [
    "df_shipping['carrier'].value_counts()"
   ]
  },
  {
   "cell_type": "code",
   "execution_count": 59,
   "id": "bd962eea",
   "metadata": {},
   "outputs": [],
   "source": [
    "df_shipping['carrier'] = df_shipping['carrier'].astype('category')"
   ]
  },
  {
   "cell_type": "code",
   "execution_count": 60,
   "id": "9f11d074",
   "metadata": {},
   "outputs": [
    {
     "data": {
      "text/plain": [
       "id                          int64\n",
       "order_id                    int64\n",
       "shipping_date      datetime64[ns]\n",
       "tracking_number            object\n",
       "carrier                  category\n",
       "status                   category\n",
       "dtype: object"
      ]
     },
     "execution_count": 60,
     "metadata": {},
     "output_type": "execute_result"
    }
   ],
   "source": [
    "df_shipping.dtypes"
   ]
  },
  {
   "cell_type": "code",
   "execution_count": 61,
   "id": "2b19fcd4",
   "metadata": {},
   "outputs": [
    {
     "data": {
      "text/html": [
       "<div>\n",
       "<style scoped>\n",
       "    .dataframe tbody tr th:only-of-type {\n",
       "        vertical-align: middle;\n",
       "    }\n",
       "\n",
       "    .dataframe tbody tr th {\n",
       "        vertical-align: top;\n",
       "    }\n",
       "\n",
       "    .dataframe thead th {\n",
       "        text-align: right;\n",
       "    }\n",
       "</style>\n",
       "<table border=\"1\" class=\"dataframe\">\n",
       "  <thead>\n",
       "    <tr style=\"text-align: right;\">\n",
       "      <th></th>\n",
       "      <th>id</th>\n",
       "      <th>name</th>\n",
       "      <th>contact_person</th>\n",
       "      <th>email</th>\n",
       "      <th>phone</th>\n",
       "      <th>address</th>\n",
       "    </tr>\n",
       "  </thead>\n",
       "  <tbody>\n",
       "    <tr>\n",
       "      <th>0</th>\n",
       "      <td>1</td>\n",
       "      <td>Maxwell, Garcia and Johnson</td>\n",
       "      <td>Jacob Lowe</td>\n",
       "      <td>fisherthomas@example.net</td>\n",
       "      <td>(639)475-1574x20468</td>\n",
       "      <td>45629 Jones Estate Apt. 321\\nNorth Debbie, SD ...</td>\n",
       "    </tr>\n",
       "    <tr>\n",
       "      <th>1</th>\n",
       "      <td>2</td>\n",
       "      <td>Price Group</td>\n",
       "      <td>Stacy Green</td>\n",
       "      <td>judy62@example.net</td>\n",
       "      <td>+1-528-997-7196x28387</td>\n",
       "      <td>761 Jamie Passage Suite 387\\nChristinastad, TN...</td>\n",
       "    </tr>\n",
       "    <tr>\n",
       "      <th>2</th>\n",
       "      <td>3</td>\n",
       "      <td>Pennington Inc</td>\n",
       "      <td>Elizabeth Carlson</td>\n",
       "      <td>bryan05@example.org</td>\n",
       "      <td>713.857.6834</td>\n",
       "      <td>99298 Christian Views\\nWest Julieport, VT 57887</td>\n",
       "    </tr>\n",
       "    <tr>\n",
       "      <th>3</th>\n",
       "      <td>4</td>\n",
       "      <td>Johnson, Gonzalez and James</td>\n",
       "      <td>Lindsey Smith</td>\n",
       "      <td>kevin58@example.org</td>\n",
       "      <td>454.948.7160x860</td>\n",
       "      <td>546 Garner Point Apt. 587\\nTylerfurt, CA 79130</td>\n",
       "    </tr>\n",
       "    <tr>\n",
       "      <th>4</th>\n",
       "      <td>5</td>\n",
       "      <td>Nguyen PLC</td>\n",
       "      <td>Mark Hunt</td>\n",
       "      <td>benjaminturner@example.net</td>\n",
       "      <td>601.953.6270x870</td>\n",
       "      <td>45392 Conner Overpass Apt. 994\\nWest Michael, ...</td>\n",
       "    </tr>\n",
       "  </tbody>\n",
       "</table>\n",
       "</div>"
      ],
      "text/plain": [
       "   id                         name     contact_person  \\\n",
       "0   1  Maxwell, Garcia and Johnson         Jacob Lowe   \n",
       "1   2                  Price Group        Stacy Green   \n",
       "2   3               Pennington Inc  Elizabeth Carlson   \n",
       "3   4  Johnson, Gonzalez and James      Lindsey Smith   \n",
       "4   5                   Nguyen PLC          Mark Hunt   \n",
       "\n",
       "                        email                  phone  \\\n",
       "0    fisherthomas@example.net    (639)475-1574x20468   \n",
       "1          judy62@example.net  +1-528-997-7196x28387   \n",
       "2         bryan05@example.org           713.857.6834   \n",
       "3         kevin58@example.org       454.948.7160x860   \n",
       "4  benjaminturner@example.net       601.953.6270x870   \n",
       "\n",
       "                                             address  \n",
       "0  45629 Jones Estate Apt. 321\\nNorth Debbie, SD ...  \n",
       "1  761 Jamie Passage Suite 387\\nChristinastad, TN...  \n",
       "2    99298 Christian Views\\nWest Julieport, VT 57887  \n",
       "3     546 Garner Point Apt. 587\\nTylerfurt, CA 79130  \n",
       "4  45392 Conner Overpass Apt. 994\\nWest Michael, ...  "
      ]
     },
     "execution_count": 61,
     "metadata": {},
     "output_type": "execute_result"
    }
   ],
   "source": [
    "df_suppliers.head()"
   ]
  },
  {
   "cell_type": "code",
   "execution_count": 62,
   "id": "8566bead",
   "metadata": {},
   "outputs": [
    {
     "data": {
      "text/plain": [
       "id                 int64\n",
       "name              object\n",
       "contact_person    object\n",
       "email             object\n",
       "phone             object\n",
       "address           object\n",
       "dtype: object"
      ]
     },
     "execution_count": 62,
     "metadata": {},
     "output_type": "execute_result"
    }
   ],
   "source": [
    "df_suppliers.dtypes"
   ]
  },
  {
   "cell_type": "code",
   "execution_count": 63,
   "id": "1d46b7d9",
   "metadata": {},
   "outputs": [
    {
     "data": {
      "text/html": [
       "<div>\n",
       "<style scoped>\n",
       "    .dataframe tbody tr th:only-of-type {\n",
       "        vertical-align: middle;\n",
       "    }\n",
       "\n",
       "    .dataframe tbody tr th {\n",
       "        vertical-align: top;\n",
       "    }\n",
       "\n",
       "    .dataframe thead th {\n",
       "        text-align: right;\n",
       "    }\n",
       "</style>\n",
       "<table border=\"1\" class=\"dataframe\">\n",
       "  <thead>\n",
       "    <tr style=\"text-align: right;\">\n",
       "      <th></th>\n",
       "      <th>id</th>\n",
       "      <th>customer_id</th>\n",
       "      <th>product_id</th>\n",
       "      <th>added_date</th>\n",
       "    </tr>\n",
       "  </thead>\n",
       "  <tbody>\n",
       "    <tr>\n",
       "      <th>0</th>\n",
       "      <td>1</td>\n",
       "      <td>1</td>\n",
       "      <td>75</td>\n",
       "      <td>2025-02-07 09:02:54</td>\n",
       "    </tr>\n",
       "    <tr>\n",
       "      <th>1</th>\n",
       "      <td>2</td>\n",
       "      <td>1</td>\n",
       "      <td>663</td>\n",
       "      <td>2024-08-04 21:43:45</td>\n",
       "    </tr>\n",
       "    <tr>\n",
       "      <th>2</th>\n",
       "      <td>3</td>\n",
       "      <td>1</td>\n",
       "      <td>601</td>\n",
       "      <td>2024-12-29 10:04:04</td>\n",
       "    </tr>\n",
       "    <tr>\n",
       "      <th>3</th>\n",
       "      <td>4</td>\n",
       "      <td>1</td>\n",
       "      <td>509</td>\n",
       "      <td>2024-09-12 22:37:30</td>\n",
       "    </tr>\n",
       "    <tr>\n",
       "      <th>4</th>\n",
       "      <td>5</td>\n",
       "      <td>1</td>\n",
       "      <td>729</td>\n",
       "      <td>2024-08-22 12:49:47</td>\n",
       "    </tr>\n",
       "  </tbody>\n",
       "</table>\n",
       "</div>"
      ],
      "text/plain": [
       "   id  customer_id  product_id           added_date\n",
       "0   1            1          75  2025-02-07 09:02:54\n",
       "1   2            1         663  2024-08-04 21:43:45\n",
       "2   3            1         601  2024-12-29 10:04:04\n",
       "3   4            1         509  2024-09-12 22:37:30\n",
       "4   5            1         729  2024-08-22 12:49:47"
      ]
     },
     "execution_count": 63,
     "metadata": {},
     "output_type": "execute_result"
    }
   ],
   "source": [
    "df_wishlists.head()"
   ]
  },
  {
   "cell_type": "code",
   "execution_count": 64,
   "id": "ae4b2d48",
   "metadata": {},
   "outputs": [
    {
     "data": {
      "text/plain": [
       "id              int64\n",
       "customer_id     int64\n",
       "product_id      int64\n",
       "added_date     object\n",
       "dtype: object"
      ]
     },
     "execution_count": 64,
     "metadata": {},
     "output_type": "execute_result"
    }
   ],
   "source": [
    "df_wishlists.dtypes"
   ]
  },
  {
   "cell_type": "code",
   "execution_count": 65,
   "id": "252a7856",
   "metadata": {},
   "outputs": [],
   "source": [
    "df_wishlists['added_date'] = df_wishlists['added_date'].astype('datetime64[ns]')"
   ]
  },
  {
   "cell_type": "code",
   "execution_count": 66,
   "id": "fe70c150",
   "metadata": {},
   "outputs": [
    {
     "data": {
      "text/plain": [
       "id                      int64\n",
       "customer_id             int64\n",
       "product_id              int64\n",
       "added_date     datetime64[ns]\n",
       "dtype: object"
      ]
     },
     "execution_count": 66,
     "metadata": {},
     "output_type": "execute_result"
    }
   ],
   "source": [
    "df_wishlists.dtypes"
   ]
  },
  {
   "cell_type": "code",
   "execution_count": 67,
   "id": "7c3d1814",
   "metadata": {},
   "outputs": [
    {
     "name": "stdout",
     "output_type": "stream",
     "text": [
      "    DataFrame      Column  Null Count\n",
      "df_categories   parent_id           5\n",
      " df_discounts category_id          50\n",
      " df_discounts    order_id          50\n",
      " df_discounts  product_id          49\n"
     ]
    }
   ],
   "source": [
    "null_report = []\n",
    "\n",
    "for name in file_names:\n",
    "    df_name = f\"df_{name}\"\n",
    "    df = globals().get(df_name)\n",
    "    if df is not None:\n",
    "        null_counts = df.isnull().sum()\n",
    "        for col, count in null_counts.items():\n",
    "            if count > 0:\n",
    "                null_report.append({\n",
    "                    \"DataFrame\": df_name,\n",
    "                    \"Column\": col,\n",
    "                    \"Null Count\": count\n",
    "                })\n",
    "\n",
    "null_df = pd.DataFrame(null_report).sort_values(by=[\"DataFrame\", \"Null Count\"], ascending=[True, False])\n",
    "\n",
    "print(null_df.to_string(index=False))"
   ]
  },
  {
   "cell_type": "code",
   "execution_count": 68,
   "id": "4be2a988",
   "metadata": {},
   "outputs": [
    {
     "name": "stdout",
     "output_type": "stream",
     "text": [
      "No duplicate rows found in any DataFrame.\n"
     ]
    }
   ],
   "source": [
    "duplicates_report = []\n",
    "\n",
    "for name in file_names:\n",
    "    df_name = f\"df_{name}\"\n",
    "    df = globals().get(df_name)\n",
    "    if df is not None:\n",
    "        duplicate_count = df.duplicated().sum()\n",
    "        duplicates_report.append({\n",
    "            \"DataFrame\": df_name,\n",
    "            \"Duplicate_Rows\": duplicate_count\n",
    "        })\n",
    "\n",
    "duplicates_df = pd.DataFrame(duplicates_report)\n",
    "\n",
    "if duplicates_df[\"Duplicate_Rows\"].sum() == 0:\n",
    "    print(\"No duplicate rows found in any DataFrame.\")\n",
    "else:\n",
    "    print(duplicates_df.sort_values(by=\"Duplicate_Rows\", ascending=False).to_string(index=False))"
   ]
  },
  {
   "cell_type": "code",
   "execution_count": 69,
   "id": "5e388dd2",
   "metadata": {},
   "outputs": [
    {
     "name": "stdout",
     "output_type": "stream",
     "text": [
      "    categories customer_sessions          customers    discounts  \\\n",
      "0           id                id                 id           id   \n",
      "1         name       customer_id         first_name         code   \n",
      "2  description     session_start          last_name   percentage   \n",
      "3    parent_id       session_end              email   start_date   \n",
      "4                     ip_address              phone     end_date   \n",
      "5                                           address    is_active   \n",
      "6                                 registration_date   product_id   \n",
      "7                                                    category_id   \n",
      "8                                                       order_id   \n",
      "\n",
      "  inventory_movements order_details        orders        payments  \\\n",
      "0                  id            id            id              id   \n",
      "1          product_id      order_id   customer_id        order_id   \n",
      "2            quantity    product_id    order_date     customer_id   \n",
      "3       movement_type      quantity  total_amount          amount   \n",
      "4       movement_date    unit_price        status    payment_date   \n",
      "5                                                  payment_method   \n",
      "6                                                          status   \n",
      "7                                                                   \n",
      "8                                                                   \n",
      "\n",
      "         products      returns      reviews         shipping       suppliers  \\\n",
      "0              id           id           id               id              id   \n",
      "1            name     order_id   product_id         order_id            name   \n",
      "2     description  return_date  customer_id    shipping_date  contact_person   \n",
      "3           price       reason       rating  tracking_number           email   \n",
      "4     category_id       status      comment          carrier           phone   \n",
      "5     supplier_id               review_date           status         address   \n",
      "6             sku                                                              \n",
      "7  stock_quantity                                                              \n",
      "8                                                                              \n",
      "\n",
      "     wishlists  \n",
      "0           id  \n",
      "1  customer_id  \n",
      "2   product_id  \n",
      "3   added_date  \n",
      "4               \n",
      "5               \n",
      "6               \n",
      "7               \n",
      "8               \n"
     ]
    }
   ],
   "source": [
    "columns_dict = {}\n",
    "for name in file_names:\n",
    "    df_name = f\"df_{name}\"\n",
    "    df = globals().get(df_name)\n",
    "    if df is not None and isinstance(df, pd.DataFrame):\n",
    "        columns_dict[name] = df.columns.tolist()\n",
    "    else:\n",
    "        columns_dict[name] = [\"[Not Loaded]\"]\n",
    "\n",
    "max_len = max(len(cols) for cols in columns_dict.values())\n",
    "for key in columns_dict:\n",
    "    columns_dict[key] += [\"\"] * (max_len - len(columns_dict[key]))\n",
    "\n",
    "columns_df = pd.DataFrame(columns_dict)\n",
    "print(columns_df)"
   ]
  },
  {
   "cell_type": "markdown",
   "id": "165db363",
   "metadata": {},
   "source": [
    "Sales Forecasting"
   ]
  },
  {
   "cell_type": "markdown",
   "id": "bb60aa13",
   "metadata": {},
   "source": [
    "Columns used for this : orders, order_details, payments, shipping_date\n"
   ]
  },
  {
   "cell_type": "markdown",
   "id": "49557154",
   "metadata": {},
   "source": [
    "Goal: Predict future revenue, order volume, or inventory needs"
   ]
  },
  {
   "cell_type": "code",
   "execution_count": 70,
   "id": "becb81ba",
   "metadata": {},
   "outputs": [
    {
     "data": {
      "text/html": [
       "<div>\n",
       "<style scoped>\n",
       "    .dataframe tbody tr th:only-of-type {\n",
       "        vertical-align: middle;\n",
       "    }\n",
       "\n",
       "    .dataframe tbody tr th {\n",
       "        vertical-align: top;\n",
       "    }\n",
       "\n",
       "    .dataframe thead th {\n",
       "        text-align: right;\n",
       "    }\n",
       "</style>\n",
       "<table border=\"1\" class=\"dataframe\">\n",
       "  <thead>\n",
       "    <tr style=\"text-align: right;\">\n",
       "      <th></th>\n",
       "      <th>order_id</th>\n",
       "      <th>customer_id</th>\n",
       "      <th>order_date</th>\n",
       "      <th>total_amount</th>\n",
       "      <th>status</th>\n",
       "    </tr>\n",
       "  </thead>\n",
       "  <tbody>\n",
       "    <tr>\n",
       "      <th>0</th>\n",
       "      <td>1</td>\n",
       "      <td>3855</td>\n",
       "      <td>2024-05-26 17:25:05</td>\n",
       "      <td>576.72</td>\n",
       "      <td>processing</td>\n",
       "    </tr>\n",
       "    <tr>\n",
       "      <th>1</th>\n",
       "      <td>2</td>\n",
       "      <td>3654</td>\n",
       "      <td>2024-11-19 23:46:15</td>\n",
       "      <td>1488.10</td>\n",
       "      <td>pending</td>\n",
       "    </tr>\n",
       "    <tr>\n",
       "      <th>2</th>\n",
       "      <td>3</td>\n",
       "      <td>3791</td>\n",
       "      <td>2024-05-25 10:20:03</td>\n",
       "      <td>3561.47</td>\n",
       "      <td>cancelled</td>\n",
       "    </tr>\n",
       "    <tr>\n",
       "      <th>3</th>\n",
       "      <td>4</td>\n",
       "      <td>140</td>\n",
       "      <td>2025-02-24 13:03:09</td>\n",
       "      <td>2958.96</td>\n",
       "      <td>pending</td>\n",
       "    </tr>\n",
       "    <tr>\n",
       "      <th>4</th>\n",
       "      <td>5</td>\n",
       "      <td>4476</td>\n",
       "      <td>2024-07-29 02:22:13</td>\n",
       "      <td>6025.56</td>\n",
       "      <td>processing</td>\n",
       "    </tr>\n",
       "  </tbody>\n",
       "</table>\n",
       "</div>"
      ],
      "text/plain": [
       "   order_id  customer_id          order_date  total_amount      status\n",
       "0         1         3855 2024-05-26 17:25:05        576.72  processing\n",
       "1         2         3654 2024-11-19 23:46:15       1488.10     pending\n",
       "2         3         3791 2024-05-25 10:20:03       3561.47   cancelled\n",
       "3         4          140 2025-02-24 13:03:09       2958.96     pending\n",
       "4         5         4476 2024-07-29 02:22:13       6025.56  processing"
      ]
     },
     "execution_count": 70,
     "metadata": {},
     "output_type": "execute_result"
    }
   ],
   "source": [
    "df_orders.rename(columns={'id':'order_id'}, inplace = True)\n",
    "df_orders.head(5)"
   ]
  },
  {
   "cell_type": "code",
   "execution_count": 71,
   "id": "c32940ac",
   "metadata": {},
   "outputs": [
    {
     "name": "stdout",
     "output_type": "stream",
     "text": [
      "['order_id', 'customer_id', 'order_date', 'total_amount', 'status']\n",
      "['id', 'order_id', 'customer_id', 'amount', 'payment_date', 'payment_method', 'status']\n"
     ]
    }
   ],
   "source": [
    "print(df_orders.columns.tolist())\n",
    "print(df_payments.columns.tolist())"
   ]
  },
  {
   "cell_type": "code",
   "execution_count": 72,
   "id": "a1ff73d1",
   "metadata": {},
   "outputs": [],
   "source": [
    "df_orders_payments = pd.merge(df_orders, df_payments, on='order_id')\n",
    "df_orders_payments['order_date'] = pd.to_datetime(df_orders_payments['order_date'])\n",
    "daily_sales = df_orders_payments.groupby('order_date')['amount'].sum().reset_index()\n",
    "daily_sales = daily_sales.sort_values('order_date')"
   ]
  },
  {
   "cell_type": "code",
   "execution_count": 73,
   "id": "8594b429",
   "metadata": {},
   "outputs": [
    {
     "data": {
      "image/png": "[encoded data removed]",
      "text/plain": [
       "<Figure size 1400x600 with 1 Axes>"
      ]
     },
     "metadata": {},
     "output_type": "display_data"
    }
   ],
   "source": [
    "plt.figure(figsize=(14, 6))\n",
    "plt.plot(daily_sales['order_date'], daily_sales['amount'], label='Daily Sales')\n",
    "plt.xlabel('Date')\n",
    "plt.ylabel('Total Sales ($)')\n",
    "plt.title('Daily Sales Over Time')\n",
    "plt.legend()\n",
    "plt.show()"
   ]
  },
  {
   "cell_type": "code",
   "execution_count": 74,
   "id": "a1b8b3cd",
   "metadata": {},
   "outputs": [
    {
     "name": "stderr",
     "output_type": "stream",
     "text": [
      "15:12:56 - cmdstanpy - INFO - Chain [1] start processing\n",
      "15:12:56 - cmdstanpy - INFO - Chain [1] done processing\n"
     ]
    },
    {
     "data": {
      "image/png": "[encoded data removed]",
      "text/plain": [
       "<Figure size 1000x600 with 1 Axes>"
      ]
     },
     "metadata": {},
     "output_type": "display_data"
    }
   ],
   "source": [
    "df_prophet = daily_sales.rename(columns={'order_date': 'ds', 'amount': 'y'})\n",
    "\n",
    "model = Prophet()\n",
    "model.fit(df_prophet)\n",
    "\n",
    "future = model.make_future_dataframe(periods=30)\n",
    "forecast = model.predict(future)\n",
    "\n",
    "model.plot(forecast)\n",
    "plt.title(\"Forecasted Sales\")\n",
    "plt.show()"
   ]
  },
  {
   "cell_type": "code",
   "execution_count": 75,
   "id": "e6abb1f2",
   "metadata": {},
   "outputs": [
    {
     "name": "stderr",
     "output_type": "stream",
     "text": [
      "15:12:57 - cmdstanpy - INFO - Chain [1] start processing\n",
      "15:12:57 - cmdstanpy - INFO - Chain [1] done processing\n"
     ]
    },
    {
     "data": {
      "image/png": "[encoded data removed]",
      "text/plain": [
       "<Figure size 1000x600 with 1 Axes>"
      ]
     },
     "metadata": {},
     "output_type": "display_data"
    }
   ],
   "source": [
    "daily_sales['order_date'] = pd.to_datetime(daily_sales['order_date'])\n",
    "daily_sales.set_index('order_date', inplace=True)\n",
    "weekly_sales = daily_sales['amount'].resample('W').sum().reset_index()\n",
    "weekly_sales.rename(columns={'order_date': 'ds', 'amount': 'y'}, inplace=True)\n",
    "model = Prophet()\n",
    "model.fit(weekly_sales)\n",
    "future = model.make_future_dataframe(periods=12, freq='W')\n",
    "\n",
    "forecast = model.predict(future)\n",
    "\n",
    "fig = model.plot(forecast)\n",
    "plt.title('Weekly Sales Forecast')\n",
    "plt.xlabel('Date')\n",
    "plt.ylabel('Sales Amount')\n",
    "plt.show()"
   ]
  },
  {
   "cell_type": "markdown",
   "id": "49c598ed",
   "metadata": {},
   "source": [
    "Trend: Sales peaked around mid-2024, declined, and are now stabilizing (or slightly rising)."
   ]
  },
  {
   "cell_type": "markdown",
   "id": "e5ff5e8d",
   "metadata": {},
   "source": [
    "Forecast: Expected to remain steady (~400k–500k/week) with no drastic growth/decline."
   ]
  },
  {
   "cell_type": "code",
   "execution_count": 76,
   "id": "54ca82c9",
   "metadata": {},
   "outputs": [
    {
     "name": "stdout",
     "output_type": "stream",
     "text": [
      "2025-05-06 00:00:00\n"
     ]
    }
   ],
   "source": [
    "snapshot_date = df_orders['order_date'].max() + pd.DateOffset(days=1)\n",
    "print(snapshot_date)"
   ]
  },
  {
   "cell_type": "code",
   "execution_count": 77,
   "id": "fb098c96",
   "metadata": {},
   "outputs": [],
   "source": [
    "rfm = df_orders.groupby('customer_id').agg({\n",
    "    'order_date': lambda x: (snapshot_date - x.max()).days,  # Recency\n",
    "    'customer_id': 'count',                                  # Frequency\n",
    "    'total_amount': 'sum'                                    # Monetary\n",
    "})"
   ]
  },
  {
   "cell_type": "code",
   "execution_count": 78,
   "id": "696d13cc",
   "metadata": {},
   "outputs": [],
   "source": [
    "rfm.columns = ['recency', 'frequency', 'total_money']"
   ]
  },
  {
   "cell_type": "code",
   "execution_count": 79,
   "id": "ee17c39e",
   "metadata": {},
   "outputs": [
    {
     "data": {
      "text/html": [
       "<div>\n",
       "<style scoped>\n",
       "    .dataframe tbody tr th:only-of-type {\n",
       "        vertical-align: middle;\n",
       "    }\n",
       "\n",
       "    .dataframe tbody tr th {\n",
       "        vertical-align: top;\n",
       "    }\n",
       "\n",
       "    .dataframe thead th {\n",
       "        text-align: right;\n",
       "    }\n",
       "</style>\n",
       "<table border=\"1\" class=\"dataframe\">\n",
       "  <thead>\n",
       "    <tr style=\"text-align: right;\">\n",
       "      <th></th>\n",
       "      <th>recency</th>\n",
       "      <th>frequency</th>\n",
       "      <th>total_money</th>\n",
       "    </tr>\n",
       "    <tr>\n",
       "      <th>customer_id</th>\n",
       "      <th></th>\n",
       "      <th></th>\n",
       "      <th></th>\n",
       "    </tr>\n",
       "  </thead>\n",
       "  <tbody>\n",
       "    <tr>\n",
       "      <th>2</th>\n",
       "      <td>180</td>\n",
       "      <td>1</td>\n",
       "      <td>3577.31</td>\n",
       "    </tr>\n",
       "    <tr>\n",
       "      <th>4</th>\n",
       "      <td>162</td>\n",
       "      <td>2</td>\n",
       "      <td>6132.06</td>\n",
       "    </tr>\n",
       "    <tr>\n",
       "      <th>5</th>\n",
       "      <td>16</td>\n",
       "      <td>3</td>\n",
       "      <td>15108.14</td>\n",
       "    </tr>\n",
       "    <tr>\n",
       "      <th>6</th>\n",
       "      <td>26</td>\n",
       "      <td>2</td>\n",
       "      <td>8976.33</td>\n",
       "    </tr>\n",
       "    <tr>\n",
       "      <th>7</th>\n",
       "      <td>316</td>\n",
       "      <td>1</td>\n",
       "      <td>5857.46</td>\n",
       "    </tr>\n",
       "    <tr>\n",
       "      <th>...</th>\n",
       "      <td>...</td>\n",
       "      <td>...</td>\n",
       "      <td>...</td>\n",
       "    </tr>\n",
       "    <tr>\n",
       "      <th>4996</th>\n",
       "      <td>116</td>\n",
       "      <td>2</td>\n",
       "      <td>9333.83</td>\n",
       "    </tr>\n",
       "    <tr>\n",
       "      <th>4997</th>\n",
       "      <td>173</td>\n",
       "      <td>2</td>\n",
       "      <td>9399.23</td>\n",
       "    </tr>\n",
       "    <tr>\n",
       "      <th>4998</th>\n",
       "      <td>104</td>\n",
       "      <td>3</td>\n",
       "      <td>7946.24</td>\n",
       "    </tr>\n",
       "    <tr>\n",
       "      <th>4999</th>\n",
       "      <td>70</td>\n",
       "      <td>2</td>\n",
       "      <td>8531.45</td>\n",
       "    </tr>\n",
       "    <tr>\n",
       "      <th>5000</th>\n",
       "      <td>188</td>\n",
       "      <td>2</td>\n",
       "      <td>16952.04</td>\n",
       "    </tr>\n",
       "  </tbody>\n",
       "</table>\n",
       "<p>4333 rows × 3 columns</p>\n",
       "</div>"
      ],
      "text/plain": [
       "             recency  frequency  total_money\n",
       "customer_id                                 \n",
       "2                180          1      3577.31\n",
       "4                162          2      6132.06\n",
       "5                 16          3     15108.14\n",
       "6                 26          2      8976.33\n",
       "7                316          1      5857.46\n",
       "...              ...        ...          ...\n",
       "4996             116          2      9333.83\n",
       "4997             173          2      9399.23\n",
       "4998             104          3      7946.24\n",
       "4999              70          2      8531.45\n",
       "5000             188          2     16952.04\n",
       "\n",
       "[4333 rows x 3 columns]"
      ]
     },
     "execution_count": 79,
     "metadata": {},
     "output_type": "execute_result"
    }
   ],
   "source": [
    "rfm"
   ]
  },
  {
   "cell_type": "code",
   "execution_count": 80,
   "id": "29e11b2a",
   "metadata": {},
   "outputs": [],
   "source": [
    "rfm['recency_score'] = pd.qcut(rfm['recency'], q=5, labels=[5, 4, 3, 2, 1], )\n",
    "rfm['frequency_score'] = pd.cut(\n",
    "    rfm['frequency'],\n",
    "    bins=[0, 1, 2, 3, 5, float('inf')],\n",
    "    labels=[1, 2, 3, 4, 5],\n",
    "    right=False\n",
    ")\n",
    "rfm['monetary_score'] = pd.qcut(rfm['total_money'], q=5, labels=[1, 2, 3, 4, 5])\n",
    "\n",
    "# Combine scores into rfm score\n",
    "rfm['rfm_score'] = rfm['recency_score'].astype(int) + rfm['frequency_score'].astype(int) + rfm['monetary_score'].astype(int)"
   ]
  },
  {
   "cell_type": "code",
   "execution_count": 81,
   "id": "299454a2",
   "metadata": {},
   "outputs": [],
   "source": [
    "segmentation_map = {\n",
    "    r'[4-5][4-5][4-5]': 'Champions',\n",
    "    r'[3-5][3-5][3-5]': 'Loyal',\n",
    "    r'[2-5][2-5][2-5]': 'Potential',\n",
    "    r'[1-5][1-5][1-5]': 'New',\n",
    "    r'[1-2][1-2][1-2]': 'At Risk',\n",
    "    r'[1-2][1-2][1-3]': 'Hibernating',\n",
    "    r'[1][1-5][1-5]': 'Lost'\n",
    "}\n",
    "\n",
    "rfm['segment'] = rfm['recency_score'].astype(str) + rfm['frequency_score'].astype(str) + rfm['monetary_score'].astype(str)\n",
    "rfm['segment'] = rfm['segment'].replace(segmentation_map, regex=True)"
   ]
  },
  {
   "cell_type": "code",
   "execution_count": 82,
   "id": "d16781a0",
   "metadata": {},
   "outputs": [
    {
     "data": {
      "text/html": [
       "<div>\n",
       "<style scoped>\n",
       "    .dataframe tbody tr th:only-of-type {\n",
       "        vertical-align: middle;\n",
       "    }\n",
       "\n",
       "    .dataframe tbody tr th {\n",
       "        vertical-align: top;\n",
       "    }\n",
       "\n",
       "    .dataframe thead th {\n",
       "        text-align: right;\n",
       "    }\n",
       "</style>\n",
       "<table border=\"1\" class=\"dataframe\">\n",
       "  <thead>\n",
       "    <tr style=\"text-align: right;\">\n",
       "      <th></th>\n",
       "      <th>recency</th>\n",
       "      <th>frequency</th>\n",
       "      <th>total_money</th>\n",
       "      <th>recency_score</th>\n",
       "      <th>frequency_score</th>\n",
       "      <th>monetary_score</th>\n",
       "      <th>rfm_score</th>\n",
       "      <th>segment</th>\n",
       "    </tr>\n",
       "    <tr>\n",
       "      <th>customer_id</th>\n",
       "      <th></th>\n",
       "      <th></th>\n",
       "      <th></th>\n",
       "      <th></th>\n",
       "      <th></th>\n",
       "      <th></th>\n",
       "      <th></th>\n",
       "      <th></th>\n",
       "    </tr>\n",
       "  </thead>\n",
       "  <tbody>\n",
       "    <tr>\n",
       "      <th>2</th>\n",
       "      <td>180</td>\n",
       "      <td>1</td>\n",
       "      <td>3577.31</td>\n",
       "      <td>2</td>\n",
       "      <td>2</td>\n",
       "      <td>1</td>\n",
       "      <td>5</td>\n",
       "      <td>New</td>\n",
       "    </tr>\n",
       "    <tr>\n",
       "      <th>4</th>\n",
       "      <td>162</td>\n",
       "      <td>2</td>\n",
       "      <td>6132.06</td>\n",
       "      <td>2</td>\n",
       "      <td>3</td>\n",
       "      <td>2</td>\n",
       "      <td>7</td>\n",
       "      <td>Potential</td>\n",
       "    </tr>\n",
       "    <tr>\n",
       "      <th>5</th>\n",
       "      <td>16</td>\n",
       "      <td>3</td>\n",
       "      <td>15108.14</td>\n",
       "      <td>5</td>\n",
       "      <td>4</td>\n",
       "      <td>4</td>\n",
       "      <td>13</td>\n",
       "      <td>Champions</td>\n",
       "    </tr>\n",
       "    <tr>\n",
       "      <th>6</th>\n",
       "      <td>26</td>\n",
       "      <td>2</td>\n",
       "      <td>8976.33</td>\n",
       "      <td>5</td>\n",
       "      <td>3</td>\n",
       "      <td>3</td>\n",
       "      <td>11</td>\n",
       "      <td>Loyal</td>\n",
       "    </tr>\n",
       "    <tr>\n",
       "      <th>7</th>\n",
       "      <td>316</td>\n",
       "      <td>1</td>\n",
       "      <td>5857.46</td>\n",
       "      <td>1</td>\n",
       "      <td>2</td>\n",
       "      <td>2</td>\n",
       "      <td>5</td>\n",
       "      <td>New</td>\n",
       "    </tr>\n",
       "    <tr>\n",
       "      <th>...</th>\n",
       "      <td>...</td>\n",
       "      <td>...</td>\n",
       "      <td>...</td>\n",
       "      <td>...</td>\n",
       "      <td>...</td>\n",
       "      <td>...</td>\n",
       "      <td>...</td>\n",
       "      <td>...</td>\n",
       "    </tr>\n",
       "    <tr>\n",
       "      <th>4996</th>\n",
       "      <td>116</td>\n",
       "      <td>2</td>\n",
       "      <td>9333.83</td>\n",
       "      <td>3</td>\n",
       "      <td>3</td>\n",
       "      <td>3</td>\n",
       "      <td>9</td>\n",
       "      <td>Loyal</td>\n",
       "    </tr>\n",
       "    <tr>\n",
       "      <th>4997</th>\n",
       "      <td>173</td>\n",
       "      <td>2</td>\n",
       "      <td>9399.23</td>\n",
       "      <td>2</td>\n",
       "      <td>3</td>\n",
       "      <td>3</td>\n",
       "      <td>8</td>\n",
       "      <td>Potential</td>\n",
       "    </tr>\n",
       "    <tr>\n",
       "      <th>4998</th>\n",
       "      <td>104</td>\n",
       "      <td>3</td>\n",
       "      <td>7946.24</td>\n",
       "      <td>3</td>\n",
       "      <td>4</td>\n",
       "      <td>3</td>\n",
       "      <td>10</td>\n",
       "      <td>Loyal</td>\n",
       "    </tr>\n",
       "    <tr>\n",
       "      <th>4999</th>\n",
       "      <td>70</td>\n",
       "      <td>2</td>\n",
       "      <td>8531.45</td>\n",
       "      <td>4</td>\n",
       "      <td>3</td>\n",
       "      <td>3</td>\n",
       "      <td>10</td>\n",
       "      <td>Loyal</td>\n",
       "    </tr>\n",
       "    <tr>\n",
       "      <th>5000</th>\n",
       "      <td>188</td>\n",
       "      <td>2</td>\n",
       "      <td>16952.04</td>\n",
       "      <td>2</td>\n",
       "      <td>3</td>\n",
       "      <td>5</td>\n",
       "      <td>10</td>\n",
       "      <td>Potential</td>\n",
       "    </tr>\n",
       "  </tbody>\n",
       "</table>\n",
       "<p>4333 rows × 8 columns</p>\n",
       "</div>"
      ],
      "text/plain": [
       "             recency  frequency  total_money recency_score frequency_score  \\\n",
       "customer_id                                                                  \n",
       "2                180          1      3577.31             2               2   \n",
       "4                162          2      6132.06             2               3   \n",
       "5                 16          3     15108.14             5               4   \n",
       "6                 26          2      8976.33             5               3   \n",
       "7                316          1      5857.46             1               2   \n",
       "...              ...        ...          ...           ...             ...   \n",
       "4996             116          2      9333.83             3               3   \n",
       "4997             173          2      9399.23             2               3   \n",
       "4998             104          3      7946.24             3               4   \n",
       "4999              70          2      8531.45             4               3   \n",
       "5000             188          2     16952.04             2               3   \n",
       "\n",
       "            monetary_score  rfm_score    segment  \n",
       "customer_id                                       \n",
       "2                        1          5        New  \n",
       "4                        2          7  Potential  \n",
       "5                        4         13  Champions  \n",
       "6                        3         11      Loyal  \n",
       "7                        2          5        New  \n",
       "...                    ...        ...        ...  \n",
       "4996                     3          9      Loyal  \n",
       "4997                     3          8  Potential  \n",
       "4998                     3         10      Loyal  \n",
       "4999                     3         10      Loyal  \n",
       "5000                     5         10  Potential  \n",
       "\n",
       "[4333 rows x 8 columns]"
      ]
     },
     "execution_count": 82,
     "metadata": {},
     "output_type": "execute_result"
    }
   ],
   "source": [
    "rfm"
   ]
  },
  {
   "cell_type": "code",
   "execution_count": 83,
   "id": "9e2b3f5f",
   "metadata": {},
   "outputs": [
    {
     "data": {
      "image/png": "[encoded data removed]",
      "text/plain": [
       "<Figure size 1000x600 with 1 Axes>"
      ]
     },
     "metadata": {},
     "output_type": "display_data"
    }
   ],
   "source": [
    "segment_counts = rfm['segment'].value_counts()\n",
    "plt.figure(figsize=(10, 6))\n",
    "segment_counts.plot(kind='bar', color='skyblue')\n",
    "plt.title('Customer Segmentation by RFM')\n",
    "plt.xlabel('Segment')\n",
    "plt.ylabel('Number of Customers')\n",
    "plt.xticks(rotation=45)\n",
    "plt.show()"
   ]
  },
  {
   "cell_type": "code",
   "execution_count": 84,
   "id": "fc368e22",
   "metadata": {},
   "outputs": [],
   "source": [
    "rfm = rfm.reset_index()\n",
    "\n",
    "segment_sales = df_orders.merge(\n",
    "    rfm[['customer_id', 'segment']], \n",
    "    on='customer_id'\n",
    ")\n",
    "\n",
    "# Sum sales by segment\n",
    "sales_by_segment = segment_sales.groupby('segment')['total_amount'].sum().reset_index()"
   ]
  },
  {
   "cell_type": "code",
   "execution_count": 85,
   "id": "422bc284",
   "metadata": {},
   "outputs": [
    {
     "data": {
      "text/html": [
       "<div>\n",
       "<style scoped>\n",
       "    .dataframe tbody tr th:only-of-type {\n",
       "        vertical-align: middle;\n",
       "    }\n",
       "\n",
       "    .dataframe tbody tr th {\n",
       "        vertical-align: top;\n",
       "    }\n",
       "\n",
       "    .dataframe thead th {\n",
       "        text-align: right;\n",
       "    }\n",
       "</style>\n",
       "<table border=\"1\" class=\"dataframe\">\n",
       "  <thead>\n",
       "    <tr style=\"text-align: right;\">\n",
       "      <th></th>\n",
       "      <th>segment</th>\n",
       "      <th>total_amount</th>\n",
       "    </tr>\n",
       "  </thead>\n",
       "  <tbody>\n",
       "    <tr>\n",
       "      <th>0</th>\n",
       "      <td>Champions</td>\n",
       "      <td>14357305.10</td>\n",
       "    </tr>\n",
       "    <tr>\n",
       "      <th>1</th>\n",
       "      <td>Loyal</td>\n",
       "      <td>12211449.65</td>\n",
       "    </tr>\n",
       "    <tr>\n",
       "      <th>2</th>\n",
       "      <td>New</td>\n",
       "      <td>6828342.00</td>\n",
       "    </tr>\n",
       "    <tr>\n",
       "      <th>3</th>\n",
       "      <td>Potential</td>\n",
       "      <td>10420295.31</td>\n",
       "    </tr>\n",
       "  </tbody>\n",
       "</table>\n",
       "</div>"
      ],
      "text/plain": [
       "     segment  total_amount\n",
       "0  Champions   14357305.10\n",
       "1      Loyal   12211449.65\n",
       "2        New    6828342.00\n",
       "3  Potential   10420295.31"
      ]
     },
     "execution_count": 85,
     "metadata": {},
     "output_type": "execute_result"
    }
   ],
   "source": [
    "sales_by_segment"
   ]
  },
  {
   "cell_type": "code",
   "execution_count": 86,
   "id": "f4204d2c",
   "metadata": {},
   "outputs": [
    {
     "data": {
      "image/png": "[encoded data removed]",
      "text/plain": [
       "<Figure size 1000x600 with 1 Axes>"
      ]
     },
     "metadata": {},
     "output_type": "display_data"
    }
   ],
   "source": [
    "plt.figure(figsize=(10, 6))\n",
    "ax = sns.barplot(\n",
    "    data=sales_by_segment,\n",
    "    x='segment',\n",
    "    y='total_amount',\n",
    "    palette='Blues_d'\n",
    ")\n",
    "\n",
    "# Format Y-axis to show values in millions\n",
    "def millions_formatter(x, pos):\n",
    "    return f'${x/1e6:.1f}M'\n",
    "\n",
    "ax.yaxis.set_major_formatter(FuncFormatter(millions_formatter))\n",
    "\n",
    "plt.title('Total Sales by Customer Segment', fontsize=14)\n",
    "plt.xlabel('Segment', fontsize=12)\n",
    "plt.ylabel('Sales ($ Millions)', fontsize=12)\n",
    "plt.xticks(rotation=45)\n",
    "plt.tight_layout()  # Prevent label cutoff\n",
    "plt.show()"
   ]
  },
  {
   "cell_type": "code",
   "execution_count": 87,
   "id": "82e2ec71",
   "metadata": {},
   "outputs": [
    {
     "name": "stdout",
     "output_type": "stream",
     "text": [
      "Index(['id', 'order_id', 'shipping_date', 'tracking_number', 'carrier',\n",
      "       'status'],\n",
      "      dtype='object')\n",
      "Index(['order_id', 'customer_id', 'order_date', 'total_amount', 'status'], dtype='object')\n",
      "Index(['id', 'order_id', 'customer_id', 'amount', 'payment_date',\n",
      "       'payment_method', 'status'],\n",
      "      dtype='object')\n",
      "Index(['id', 'product_id', 'quantity', 'movement_type', 'movement_date'], dtype='object')\n"
     ]
    }
   ],
   "source": [
    "print(df_shipping.columns)\n",
    "print(df_orders.columns)\n",
    "print(df_payments.columns)\n",
    "print(df_inventory_movements.columns)"
   ]
  },
  {
   "cell_type": "code",
   "execution_count": 88,
   "id": "9069d36e",
   "metadata": {},
   "outputs": [],
   "source": [
    "df_shipping_merged = (\n",
    "    df_shipping\n",
    "    .merge(df_orders[['order_id', 'order_date']], on='order_id', how='left')\n",
    "    .merge(df_payments[['order_id', 'payment_date']], on='order_id', how='left')\n",
    ")"
   ]
  },
  {
   "cell_type": "code",
   "execution_count": 89,
   "id": "28e7a1c0",
   "metadata": {},
   "outputs": [],
   "source": [
    "df_order_products = df_order_details[['order_id', 'product_id']]"
   ]
  },
  {
   "cell_type": "code",
   "execution_count": 90,
   "id": "740b27c2",
   "metadata": {},
   "outputs": [],
   "source": [
    "df_movements_joined = pd.merge(\n",
    "    df_order_products, \n",
    "    df_inventory_movements[['product_id', 'movement_date']], \n",
    "    on='product_id', \n",
    "    how='left'\n",
    ")"
   ]
  },
  {
   "cell_type": "code",
   "execution_count": 91,
   "id": "58dd48f1",
   "metadata": {},
   "outputs": [],
   "source": [
    "df_full = pd.merge(\n",
    "    df_shipping_merged,\n",
    "    df_movements_joined,\n",
    "    on='order_id',\n",
    "    how='left'\n",
    ")"
   ]
  },
  {
   "cell_type": "code",
   "execution_count": 92,
   "id": "efd43506",
   "metadata": {},
   "outputs": [],
   "source": [
    "df_full['shipping_date'] = pd.to_datetime(df_full['shipping_date'])\n",
    "df_full['order_date'] = pd.to_datetime(df_full['order_date'])\n",
    "df_full['payment_date'] = pd.to_datetime(df_full['payment_date'])\n",
    "df_full['movement_date'] = pd.to_datetime(df_full['movement_date'])\n",
    "\n",
    "df_full['order_to_ship'] = (df_full['shipping_date'] - df_full['order_date']).dt.days\n",
    "df_full['payment_to_ship'] = (df_full['shipping_date'] - df_full['payment_date']).dt.days\n",
    "df_full['payment_to_inventory'] = (df_full['movement_date'] - df_full['payment_date']).dt.days\n",
    "\n",
    "# Target label: delayed if shipping takes more than 1 days from payment\n",
    "df_full['is_delayed'] = (df_full['payment_to_ship'] > 1).astype(int)"
   ]
  },
  {
   "cell_type": "code",
   "execution_count": 93,
   "id": "2170de2a",
   "metadata": {},
   "outputs": [
    {
     "name": "stdout",
     "output_type": "stream",
     "text": [
      "              precision    recall  f1-score   support\n",
      "\n",
      "           0       1.00      1.00      1.00     50697\n",
      "           1       1.00      1.00      1.00     26059\n",
      "\n",
      "    accuracy                           1.00     76756\n",
      "   macro avg       1.00      1.00      1.00     76756\n",
      "weighted avg       1.00      1.00      1.00     76756\n",
      "\n"
     ]
    }
   ],
   "source": [
    "X = df_full[['order_to_ship', 'payment_to_ship', 'payment_to_inventory']].fillna(0)\n",
    "y = df_full['is_delayed']\n",
    "\n",
    "X_train, X_test, y_train, y_test = train_test_split(X, y, test_size=0.2, random_state=42)\n",
    "\n",
    "model = RandomForestClassifier()\n",
    "model.fit(X_train, y_train)\n",
    "\n",
    "y_pred = model.predict(X_test)\n",
    "print(classification_report(y_test, y_pred))"
   ]
  },
  {
   "cell_type": "markdown",
   "id": "3bdd8494",
   "metadata": {},
   "source": [
    "Model is predicting to well and that mains that mybe the problem is too easy or  maybe because the model is using order_to_ship or payment_to_ship and this is making it too easy for prediction "
   ]
  },
  {
   "cell_type": "markdown",
   "id": "968f612e",
   "metadata": {},
   "source": [
    "## Product Performance Report"
   ]
  },
  {
   "cell_type": "code",
   "execution_count": 94,
   "id": "238417b7",
   "metadata": {},
   "outputs": [],
   "source": [
    "df_products_renamed = df_products.rename(columns={'id': 'product_id'})\n",
    "df_product_perf = pd.merge(df_order_details, df_products_renamed, on='product_id', how='left')\n",
    "df_product_perf = pd.merge(df_product_perf, df_orders[['order_id', 'order_date', 'status']], on='order_id', how='left')\n",
    "df_product_perf = pd.merge(df_product_perf, df_reviews[['product_id', 'rating']], on='product_id', how='left')"
   ]
  },
  {
   "cell_type": "code",
   "execution_count": 95,
   "id": "ad155cb0",
   "metadata": {},
   "outputs": [],
   "source": [
    "report = df_product_perf.groupby(['product_id', 'name']).agg(\n",
    "    total_sales=pd.NamedAgg(column='unit_price', aggfunc='sum'),\n",
    "    total_quantity=pd.NamedAgg(column='quantity', aggfunc='sum'),\n",
    "    average_rating=pd.NamedAgg(column='rating', aggfunc='mean'),\n",
    "    review_count=pd.NamedAgg(column='rating', aggfunc='count'),\n",
    "    order_count=pd.NamedAgg(column='order_id', aggfunc='nunique')\n",
    ").reset_index()\n"
   ]
  },
  {
   "cell_type": "code",
   "execution_count": 96,
   "id": "4aefe677",
   "metadata": {},
   "outputs": [
    {
     "data": {
      "text/html": [
       "<div>\n",
       "<style scoped>\n",
       "    .dataframe tbody tr th:only-of-type {\n",
       "        vertical-align: middle;\n",
       "    }\n",
       "\n",
       "    .dataframe tbody tr th {\n",
       "        vertical-align: top;\n",
       "    }\n",
       "\n",
       "    .dataframe thead th {\n",
       "        text-align: right;\n",
       "    }\n",
       "</style>\n",
       "<table border=\"1\" class=\"dataframe\">\n",
       "  <thead>\n",
       "    <tr style=\"text-align: right;\">\n",
       "      <th></th>\n",
       "      <th>product_id</th>\n",
       "      <th>name</th>\n",
       "      <th>total_sales</th>\n",
       "      <th>total_quantity</th>\n",
       "      <th>average_rating</th>\n",
       "      <th>review_count</th>\n",
       "      <th>order_count</th>\n",
       "    </tr>\n",
       "  </thead>\n",
       "  <tbody>\n",
       "    <tr>\n",
       "      <th>482</th>\n",
       "      <td>483</td>\n",
       "      <td>Polarized stable info-mediaries</td>\n",
       "      <td>681134.61</td>\n",
       "      <td>2375</td>\n",
       "      <td>3.157895</td>\n",
       "      <td>741</td>\n",
       "      <td>39</td>\n",
       "    </tr>\n",
       "    <tr>\n",
       "      <th>750</th>\n",
       "      <td>751</td>\n",
       "      <td>Re-engineered neutral attitude</td>\n",
       "      <td>657675.60</td>\n",
       "      <td>1820</td>\n",
       "      <td>2.500000</td>\n",
       "      <td>680</td>\n",
       "      <td>34</td>\n",
       "    </tr>\n",
       "    <tr>\n",
       "      <th>921</th>\n",
       "      <td>922</td>\n",
       "      <td>Innovative tangible toolset</td>\n",
       "      <td>642960.00</td>\n",
       "      <td>2286</td>\n",
       "      <td>3.500000</td>\n",
       "      <td>684</td>\n",
       "      <td>38</td>\n",
       "    </tr>\n",
       "    <tr>\n",
       "      <th>511</th>\n",
       "      <td>512</td>\n",
       "      <td>Sharable context-sensitive hub</td>\n",
       "      <td>640520.40</td>\n",
       "      <td>2360</td>\n",
       "      <td>2.800000</td>\n",
       "      <td>760</td>\n",
       "      <td>38</td>\n",
       "    </tr>\n",
       "    <tr>\n",
       "      <th>663</th>\n",
       "      <td>664</td>\n",
       "      <td>User-friendly encompassing budgetary management</td>\n",
       "      <td>634887.00</td>\n",
       "      <td>2100</td>\n",
       "      <td>2.450000</td>\n",
       "      <td>660</td>\n",
       "      <td>33</td>\n",
       "    </tr>\n",
       "    <tr>\n",
       "      <th>597</th>\n",
       "      <td>598</td>\n",
       "      <td>Stand-alone system-worthy circuit</td>\n",
       "      <td>619879.75</td>\n",
       "      <td>2033</td>\n",
       "      <td>3.105263</td>\n",
       "      <td>665</td>\n",
       "      <td>35</td>\n",
       "    </tr>\n",
       "    <tr>\n",
       "      <th>148</th>\n",
       "      <td>149</td>\n",
       "      <td>Innovative logistical concept</td>\n",
       "      <td>589657.60</td>\n",
       "      <td>2280</td>\n",
       "      <td>2.800000</td>\n",
       "      <td>640</td>\n",
       "      <td>32</td>\n",
       "    </tr>\n",
       "    <tr>\n",
       "      <th>549</th>\n",
       "      <td>550</td>\n",
       "      <td>Compatible coherent intranet</td>\n",
       "      <td>582609.35</td>\n",
       "      <td>2014</td>\n",
       "      <td>2.526316</td>\n",
       "      <td>589</td>\n",
       "      <td>31</td>\n",
       "    </tr>\n",
       "    <tr>\n",
       "      <th>373</th>\n",
       "      <td>374</td>\n",
       "      <td>Focused clear-thinking collaboration</td>\n",
       "      <td>578988.55</td>\n",
       "      <td>1785</td>\n",
       "      <td>3.176471</td>\n",
       "      <td>595</td>\n",
       "      <td>35</td>\n",
       "    </tr>\n",
       "    <tr>\n",
       "      <th>419</th>\n",
       "      <td>420</td>\n",
       "      <td>Customizable multi-tasking help-desk</td>\n",
       "      <td>578428.40</td>\n",
       "      <td>2261</td>\n",
       "      <td>3.421053</td>\n",
       "      <td>703</td>\n",
       "      <td>37</td>\n",
       "    </tr>\n",
       "  </tbody>\n",
       "</table>\n",
       "</div>"
      ],
      "text/plain": [
       "     product_id                                             name  total_sales  \\\n",
       "482         483                  Polarized stable info-mediaries    681134.61   \n",
       "750         751                   Re-engineered neutral attitude    657675.60   \n",
       "921         922                      Innovative tangible toolset    642960.00   \n",
       "511         512                   Sharable context-sensitive hub    640520.40   \n",
       "663         664  User-friendly encompassing budgetary management    634887.00   \n",
       "597         598                Stand-alone system-worthy circuit    619879.75   \n",
       "148         149                    Innovative logistical concept    589657.60   \n",
       "549         550                     Compatible coherent intranet    582609.35   \n",
       "373         374             Focused clear-thinking collaboration    578988.55   \n",
       "419         420             Customizable multi-tasking help-desk    578428.40   \n",
       "\n",
       "     total_quantity  average_rating  review_count  order_count  \n",
       "482            2375        3.157895           741           39  \n",
       "750            1820        2.500000           680           34  \n",
       "921            2286        3.500000           684           38  \n",
       "511            2360        2.800000           760           38  \n",
       "663            2100        2.450000           660           33  \n",
       "597            2033        3.105263           665           35  \n",
       "148            2280        2.800000           640           32  \n",
       "549            2014        2.526316           589           31  \n",
       "373            1785        3.176471           595           35  \n",
       "419            2261        3.421053           703           37  "
      ]
     },
     "metadata": {},
     "output_type": "display_data"
    }
   ],
   "source": [
    "report_sorted = report.sort_values(by='total_sales', ascending=False)\n",
    "display(report_sorted.head(10))  # top 10 best-selling products"
   ]
  },
  {
   "cell_type": "code",
   "execution_count": 97,
   "id": "5a0dfb55",
   "metadata": {},
   "outputs": [
    {
     "data": {
      "image/png": "[encoded data removed]",
      "text/plain": [
       "<Figure size 1000x500 with 1 Axes>"
      ]
     },
     "metadata": {},
     "output_type": "display_data"
    }
   ],
   "source": [
    "top_products = report_sorted.head(10)\n",
    "\n",
    "plt.figure(figsize=(10, 5))\n",
    "plt.barh(top_products['name'], top_products['total_sales'])\n",
    "plt.xlabel(\"Total Sales\")\n",
    "plt.title(\"Top 10 Products by Sales\")\n",
    "plt.gca().invert_yaxis()\n",
    "plt.tight_layout()\n",
    "plt.show()"
   ]
  },
  {
   "cell_type": "code",
   "execution_count": 98,
   "id": "75add384",
   "metadata": {},
   "outputs": [],
   "source": [
    "order_count = df_product_perf.groupby('product_id').size().rename('order_count')\n",
    "return_count = df_product_perf[df_product_perf['status'] == 'returned'].groupby('product_id').size().rename('return_count')\n",
    "avg_rating = df_product_perf.groupby('product_id')['rating'].mean().rename('average_rating')\n",
    "product_stats = pd.concat([order_count, return_count, avg_rating], axis=1).fillna(0)\n",
    "product_stats['return_rate'] = product_stats['return_count'] / product_stats['order_count']"
   ]
  },
  {
   "cell_type": "code",
   "execution_count": 99,
   "id": "17f91068",
   "metadata": {},
   "outputs": [
    {
     "name": "stderr",
     "output_type": "stream",
     "text": [
      "C:\\Users\\CompuMarts\\AppData\\Local\\Temp\\ipykernel_20600\\1481941960.py:11: UserWarning: FixedFormatter should only be used together with FixedLocator\n",
      "  ax1.set_xticklabels(top_10['product_id'].astype(str), rotation=45)\n"
     ]
    },
    {
     "data": {
      "image/png": "[encoded data removed]",
      "text/plain": [
       "<Figure size 1400x600 with 2 Axes>"
      ]
     },
     "metadata": {},
     "output_type": "display_data"
    }
   ],
   "source": [
    "top_10 = product_stats.sort_values('return_rate', ascending=False).head(10).reset_index()\n",
    "top_10 = top_10.merge(df_products_renamed[['product_id', 'name']], on='product_id', how='left')\n",
    "\n",
    "fig, ax1 = plt.subplots(figsize=(14,6))\n",
    "\n",
    "# Bar plot (return rate)\n",
    "ax1.bar(top_10['product_id'].astype(str), top_10['return_rate'], color='tomato')\n",
    "ax1.set_ylabel('Return Rate', color='tomato')\n",
    "ax1.set_xlabel('Product ID')\n",
    "ax1.tick_params(axis='y', labelcolor='tomato')\n",
    "ax1.set_xticklabels(top_10['product_id'].astype(str), rotation=45)\n",
    "\n",
    "# Line plot (average rating)\n",
    "ax2 = ax1.twinx()\n",
    "ax2.plot(top_10['product_id'].astype(str), top_10['average_rating'],\n",
    "         color='green', marker='o', label='Average Rating')\n",
    "\n",
    "# Annotate each dot with product name\n",
    "for i, row in top_10.iterrows():\n",
    "    ax2.text(i, row['average_rating'] + 0.1, row['name'][:15],  # shorten long names\n",
    "             color='green', fontsize=8, ha='center', rotation=45)\n",
    "\n",
    "ax2.set_ylabel('Average Rating', color='green')\n",
    "ax2.tick_params(axis='y', labelcolor='green')\n",
    "plt.title('Return Rate and Average Rating per Product (Top 10)')\n",
    "plt.tight_layout()\n",
    "plt.show()\n"
   ]
  },
  {
   "cell_type": "markdown",
   "id": "24f82515",
   "metadata": {},
   "source": [
    "## Customer Lifetime Value (CLV)\n"
   ]
  },
  {
   "cell_type": "code",
   "execution_count": 100,
   "id": "117c161e",
   "metadata": {},
   "outputs": [],
   "source": [
    "df_order_details['total_price'] = df_order_details['unit_price'] * df_order_details['quantity']\n",
    "df_clv = pd.merge(df_order_details, df_orders[['order_id', 'customer_id']], on='order_id', how='left')\n",
    "customer_clv = df_clv.groupby('customer_id')['total_price'].sum().reset_index()\n",
    "customer_clv.columns = ['customer_id', 'CLV']"
   ]
  },
  {
   "cell_type": "code",
   "execution_count": 101,
   "id": "989b1e72",
   "metadata": {},
   "outputs": [
    {
     "name": "stdout",
     "output_type": "stream",
     "text": [
      "      customer_id       CLV\n",
      "75             88  51335.90\n",
      "1248         1441  48510.22\n",
      "545           621  47086.69\n",
      "1250         1443  44597.65\n",
      "3765         4342  43314.71\n",
      "4220         4870  42009.41\n",
      "1871         2183  41078.43\n",
      "2066         2400  40921.14\n",
      "1873         2185  39359.18\n",
      "2761         3179  38193.41\n"
     ]
    }
   ],
   "source": [
    "top_10_customers = customer_clv.sort_values(by='CLV', ascending=False).head(10)\n",
    "print(top_10_customers)"
   ]
  },
  {
   "cell_type": "code",
   "execution_count": 102,
   "id": "9ead444f",
   "metadata": {},
   "outputs": [
    {
     "data": {
      "image/png": "[encoded data removed]",
      "text/plain": [
       "<Figure size 1000x600 with 1 Axes>"
      ]
     },
     "metadata": {},
     "output_type": "display_data"
    }
   ],
   "source": [
    "plt.figure(figsize=(10,6))\n",
    "sns.barplot(data=top_10_customers, x='customer_id', y='CLV', palette='viridis')\n",
    "plt.title('Top 10 Customers by Lifetime Value')\n",
    "plt.xlabel('Customer ID')\n",
    "plt.ylabel('Customer Lifetime Value (CLV)')\n",
    "plt.xticks(rotation=45)\n",
    "plt.tight_layout()\n",
    "plt.show()"
   ]
  },
  {
   "cell_type": "markdown",
   "id": "be665f26",
   "metadata": {},
   "source": [
    "# Building a model that predicts the CLV (Customer Lifetime Value)"
   ]
  },
  {
   "cell_type": "code",
   "execution_count": 103,
   "id": "037dd8ae",
   "metadata": {},
   "outputs": [],
   "source": [
    "df_customers = df_customers.rename(columns={'id': 'customer_id'})"
   ]
  },
  {
   "cell_type": "code",
   "execution_count": 104,
   "id": "7990505c",
   "metadata": {},
   "outputs": [],
   "source": [
    "df_clv = df_orders.groupby(\"customer_id\")[\"total_amount\"].sum().reset_index()\n",
    "df_clv.columns = [\"customer_id\", \"CLV\"]\n",
    "\n",
    "df_order_stats = df_orders.groupby(\"customer_id\").agg({\n",
    "    \"order_id\": \"count\",\n",
    "    \"total_amount\": \"mean\"\n",
    "}).reset_index()\n",
    "df_order_stats.columns = [\"customer_id\", \"num_orders\", \"avg_order_value\"]\n",
    "\n",
    "df_sessions = df_customer_sessions.groupby(\"customer_id\").agg({\n",
    "    \"session_start\": \"count\"\n",
    "}).reset_index()\n",
    "df_sessions.columns = [\"customer_id\", \"num_sessions\"]\n",
    "\n",
    "df_reviews_stats = df_reviews.groupby(\"customer_id\").agg({\n",
    "    \"rating\": [\"count\", \"mean\"]\n",
    "}).reset_index()\n",
    "df_reviews_stats.columns = [\"customer_id\", \"num_reviews\", \"avg_rating\"]\n",
    "\n",
    "features = df_customers.merge(df_order_stats, on=\"customer_id\", how=\"left\") \\\n",
    "                       .merge(df_sessions, on=\"customer_id\", how=\"left\") \\\n",
    "                       .merge(df_reviews_stats, on=\"customer_id\", how=\"left\") \\\n",
    "                       .merge(df_clv, on=\"customer_id\", how=\"left\")"
   ]
  },
  {
   "cell_type": "code",
   "execution_count": 105,
   "id": "85595752",
   "metadata": {},
   "outputs": [],
   "source": [
    "X = features.drop(columns=[\"customer_id\", \"CLV\"])\n",
    "y = features[\"CLV\"]\n",
    "\n",
    "X_train, X_test, y_train, y_test = train_test_split(X, y, test_size=0.2, random_state=42)"
   ]
  },
  {
   "cell_type": "code",
   "execution_count": 106,
   "id": "3e5dd814",
   "metadata": {},
   "outputs": [
    {
     "data": {
      "text/plain": [
       "0            NaN\n",
       "1        3577.31\n",
       "2            NaN\n",
       "3        6132.06\n",
       "4       15108.14\n",
       "          ...   \n",
       "4995     9333.83\n",
       "4996     9399.23\n",
       "4997     7946.24\n",
       "4998     8531.45\n",
       "4999    16952.04\n",
       "Name: CLV, Length: 5000, dtype: float64"
      ]
     },
     "execution_count": 106,
     "metadata": {},
     "output_type": "execute_result"
    }
   ],
   "source": [
    "y"
   ]
  },
  {
   "cell_type": "code",
   "execution_count": 107,
   "id": "89cb0608",
   "metadata": {},
   "outputs": [
    {
     "name": "stdout",
     "output_type": "stream",
     "text": [
      "667\n",
      "0      NaN\n",
      "2      NaN\n",
      "7      NaN\n",
      "10     NaN\n",
      "14     NaN\n",
      "        ..\n",
      "4965   NaN\n",
      "4968   NaN\n",
      "4970   NaN\n",
      "4974   NaN\n",
      "4990   NaN\n",
      "Name: CLV, Length: 667, dtype: float64\n"
     ]
    }
   ],
   "source": [
    "print(y.isnull().sum())\n",
    "print(y[y.isnull()])"
   ]
  },
  {
   "cell_type": "code",
   "execution_count": 108,
   "id": "5a7a0831",
   "metadata": {},
   "outputs": [],
   "source": [
    "non_null_indices = y.notnull()\n",
    "X = X[non_null_indices]\n",
    "y = y[non_null_indices]"
   ]
  },
  {
   "cell_type": "code",
   "execution_count": 109,
   "id": "23f01b09",
   "metadata": {},
   "outputs": [
    {
     "data": {
      "text/plain": [
       "1        3577.31\n",
       "3        6132.06\n",
       "4       15108.14\n",
       "5        8976.33\n",
       "6        5857.46\n",
       "          ...   \n",
       "4995     9333.83\n",
       "4996     9399.23\n",
       "4997     7946.24\n",
       "4998     8531.45\n",
       "4999    16952.04\n",
       "Name: CLV, Length: 4333, dtype: float64"
      ]
     },
     "execution_count": 109,
     "metadata": {},
     "output_type": "execute_result"
    }
   ],
   "source": [
    "y"
   ]
  },
  {
   "cell_type": "code",
   "execution_count": 110,
   "id": "6e16974f",
   "metadata": {},
   "outputs": [
    {
     "name": "stdout",
     "output_type": "stream",
     "text": [
      "first_name                   object\n",
      "last_name                    object\n",
      "email                        object\n",
      "phone                        object\n",
      "address                      object\n",
      "registration_date    datetime64[ns]\n",
      "num_orders                  float64\n",
      "avg_order_value             float64\n",
      "num_sessions                  int64\n",
      "num_reviews                 float64\n",
      "avg_rating                  float64\n",
      "dtype: object\n"
     ]
    }
   ],
   "source": [
    "print(X.dtypes)"
   ]
  },
  {
   "cell_type": "code",
   "execution_count": 111,
   "id": "d143fdde",
   "metadata": {},
   "outputs": [],
   "source": [
    "X = X.drop(columns=[\"first_name\", \"last_name\", \"email\", \"address\", \"phone\"], errors=\"ignore\")"
   ]
  },
  {
   "cell_type": "code",
   "execution_count": 112,
   "id": "718ec0b7",
   "metadata": {},
   "outputs": [],
   "source": [
    "X['registration_year'] = X['registration_date'].dt.year\n",
    "X['registration_month'] = X['registration_date'].dt.month\n",
    "X['registration_day'] = X['registration_date'].dt.day\n",
    "X['registration_dayofweek'] = X['registration_date'].dt.dayofweek\n",
    "\n",
    "X['days_since_registration'] = (pd.Timestamp.now() - X['registration_date']).dt.days"
   ]
  },
  {
   "cell_type": "code",
   "execution_count": 113,
   "id": "bc4f371a",
   "metadata": {},
   "outputs": [],
   "source": [
    "X = X.drop(columns=['registration_date'], errors='ignore')"
   ]
  },
  {
   "cell_type": "code",
   "execution_count": 114,
   "id": "c8eab852",
   "metadata": {},
   "outputs": [
    {
     "data": {
      "text/plain": [
       "num_orders                 float64\n",
       "avg_order_value            float64\n",
       "num_sessions                 int64\n",
       "num_reviews                float64\n",
       "avg_rating                 float64\n",
       "registration_year            int64\n",
       "registration_month           int64\n",
       "registration_day             int64\n",
       "registration_dayofweek       int64\n",
       "days_since_registration      int64\n",
       "dtype: object"
      ]
     },
     "execution_count": 114,
     "metadata": {},
     "output_type": "execute_result"
    }
   ],
   "source": [
    "X.dtypes"
   ]
  },
  {
   "cell_type": "code",
   "execution_count": 115,
   "id": "e95180f6",
   "metadata": {},
   "outputs": [],
   "source": [
    "imputer = SimpleImputer(strategy='mean')\n",
    "X = pd.DataFrame(imputer.fit_transform(X), columns=X.columns)"
   ]
  },
  {
   "cell_type": "code",
   "execution_count": 116,
   "id": "2dd3640a",
   "metadata": {},
   "outputs": [
    {
     "name": "stdout",
     "output_type": "stream",
     "text": [
      "MAE: 35.272038177623664\n"
     ]
    }
   ],
   "source": [
    "X_train, X_test, y_train, y_test = train_test_split(X, y, test_size=0.2, random_state=42)\n",
    "\n",
    "model = RandomForestRegressor()\n",
    "model.fit(X_train, y_train)\n",
    "\n",
    "y_pred = model.predict(X_test)\n",
    "print(\"MAE:\", mean_absolute_error(y_test, y_pred))"
   ]
  },
  {
   "cell_type": "code",
   "execution_count": 117,
   "id": "a8a04038",
   "metadata": {},
   "outputs": [
    {
     "name": "stdout",
     "output_type": "stream",
     "text": [
      "Predicted CLV: 9748.362199999998\n"
     ]
    }
   ],
   "source": [
    "print(\"Predicted CLV:\", model.predict(pd.DataFrame([{\n",
    "    'num_orders': 10.0,\n",
    "    'avg_order_value': 85.5,\n",
    "    'num_sessions': 25.0,\n",
    "    'num_reviews': 4.0,\n",
    "    'avg_rating': 4.7,\n",
    "    'registration_year': 2023.0,\n",
    "    'registration_month': 6.0,\n",
    "    'registration_day': 15.0,\n",
    "    'registration_dayofweek': 3.0,\n",
    "    'days_since_registration': 330.0\n",
    "}]))[0])\n"
   ]
  },
  {
   "cell_type": "code",
   "execution_count": null,
   "id": "df540cee",
   "metadata": {},
   "outputs": [],
   "source": []
  }
 ],
 "metadata": {
  "kernelspec": {
   "display_name": "Python 3 (ipykernel)",
   "language": "python",
   "name": "python3"
  },
  "language_info": {
   "codemirror_mode": {
    "name": "ipython",
    "version": 3
   },
   "file_extension": ".py",
   "mimetype": "text/x-python",
   "name": "python",
   "nbconvert_exporter": "python",
   "pygments_lexer": "ipython3",
   "version": "3.9.17"
  }
 },
 "nbformat": 4,
 "nbformat_minor": 5
}
